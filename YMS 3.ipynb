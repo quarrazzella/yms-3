{
 "cells": [
  {
   "cell_type": "code",
   "execution_count": 1,
   "metadata": {
    "collapsed": true
   },
   "outputs": [],
   "source": [
    "import pandas as pd\n",
    "import json\n",
    "from pandas.io.json import json_normalize\n",
    "import numpy as np\n",
    "import re\n",
    "import warnings\n",
    "import datetime as dt\n",
    "warnings.filterwarnings('ignore')\n",
    "\n",
    "import seaborn as sns\n",
    "%matplotlib inline\n",
    "from matplotlib import rcParams"
   ]
  },
  {
   "cell_type": "code",
   "execution_count": 2,
   "metadata": {
    "collapsed": true
   },
   "outputs": [],
   "source": [
    "sns.set(font_scale=1.5)\n",
    "rcParams['figure.figsize'] = 17,7"
   ]
  },
  {
   "cell_type": "markdown",
   "metadata": {},
   "source": [
    "Загрузим данные"
   ]
  },
  {
   "cell_type": "code",
   "execution_count": 3,
   "metadata": {
    "collapsed": true
   },
   "outputs": [],
   "source": [
    "vis = pd.read_csv('../dmitriilin/Downloads/visits', sep=\"\\t\")\n",
    "pur = pd.read_csv('../dmitriilin/Downloads/purchases', sep=\"\\t\")"
   ]
  },
  {
   "cell_type": "markdown",
   "metadata": {},
   "source": [
    "Приведем необходимые признаки к формату timestamp,<br>в датафрейме pur (покупки) добавим новый признак <b>start_dt</b>"
   ]
  },
  {
   "cell_type": "code",
   "execution_count": 4,
   "metadata": {
    "collapsed": true
   },
   "outputs": [],
   "source": [
    "for column in vis[[f for f in vis.columns if '_ts' in f]].columns:\n",
    "    vis[column] = vis[column].apply(lambda x: pd.to_datetime(x))\n",
    "\n",
    "pur['buy_ts'] = pur['buy_ts'].apply(lambda x: pd.to_datetime(x, format='%d.%m.%Y %H:%M:%S'))"
   ]
  },
  {
   "cell_type": "code",
   "execution_count": 5,
   "metadata": {
    "collapsed": true
   },
   "outputs": [],
   "source": [
    "pur['start_dt'] = pur['buy_ts'].apply(lambda x: x.date()).astype('str')"
   ]
  },
  {
   "cell_type": "markdown",
   "metadata": {},
   "source": [
    "Посмотрим на данные"
   ]
  },
  {
   "cell_type": "code",
   "execution_count": 6,
   "metadata": {},
   "outputs": [
    {
     "data": {
      "text/html": [
       "<div>\n",
       "<style scoped>\n",
       "    .dataframe tbody tr th:only-of-type {\n",
       "        vertical-align: middle;\n",
       "    }\n",
       "\n",
       "    .dataframe tbody tr th {\n",
       "        vertical-align: top;\n",
       "    }\n",
       "\n",
       "    .dataframe thead th {\n",
       "        text-align: right;\n",
       "    }\n",
       "</style>\n",
       "<table border=\"1\" class=\"dataframe\">\n",
       "  <thead>\n",
       "    <tr style=\"text-align: right;\">\n",
       "      <th></th>\n",
       "      <th>device</th>\n",
       "      <th>end_ts</th>\n",
       "      <th>source_id</th>\n",
       "      <th>start_dt</th>\n",
       "      <th>start_ts</th>\n",
       "      <th>uid</th>\n",
       "    </tr>\n",
       "  </thead>\n",
       "  <tbody>\n",
       "    <tr>\n",
       "      <th>0</th>\n",
       "      <td>desktop</td>\n",
       "      <td>2016-11-30 11:04:17</td>\n",
       "      <td>2</td>\n",
       "      <td>2016-11-30</td>\n",
       "      <td>2016-11-30 10:53:49</td>\n",
       "      <td>3758486201</td>\n",
       "    </tr>\n",
       "    <tr>\n",
       "      <th>1</th>\n",
       "      <td>desktop</td>\n",
       "      <td>2016-11-10 23:16:57</td>\n",
       "      <td>4</td>\n",
       "      <td>2016-11-10</td>\n",
       "      <td>2016-11-10 23:08:04</td>\n",
       "      <td>2933941628</td>\n",
       "    </tr>\n",
       "    <tr>\n",
       "      <th>2</th>\n",
       "      <td>desktop</td>\n",
       "      <td>2016-10-19 18:51:56</td>\n",
       "      <td>1</td>\n",
       "      <td>2016-10-19</td>\n",
       "      <td>2016-10-19 18:48:16</td>\n",
       "      <td>1465872791</td>\n",
       "    </tr>\n",
       "    <tr>\n",
       "      <th>3</th>\n",
       "      <td>desktop</td>\n",
       "      <td>2017-01-12 20:51:55</td>\n",
       "      <td>9</td>\n",
       "      <td>2017-01-12</td>\n",
       "      <td>2017-01-12 20:50:10</td>\n",
       "      <td>2751875787</td>\n",
       "    </tr>\n",
       "    <tr>\n",
       "      <th>4</th>\n",
       "      <td>touch</td>\n",
       "      <td>2016-07-23 19:17:19</td>\n",
       "      <td>4</td>\n",
       "      <td>2016-07-23</td>\n",
       "      <td>2016-07-23 19:10:57</td>\n",
       "      <td>3492372810</td>\n",
       "    </tr>\n",
       "  </tbody>\n",
       "</table>\n",
       "</div>"
      ],
      "text/plain": [
       "    device              end_ts  source_id    start_dt            start_ts  \\\n",
       "0  desktop 2016-11-30 11:04:17          2  2016-11-30 2016-11-30 10:53:49   \n",
       "1  desktop 2016-11-10 23:16:57          4  2016-11-10 2016-11-10 23:08:04   \n",
       "2  desktop 2016-10-19 18:51:56          1  2016-10-19 2016-10-19 18:48:16   \n",
       "3  desktop 2017-01-12 20:51:55          9  2017-01-12 2017-01-12 20:50:10   \n",
       "4    touch 2016-07-23 19:17:19          4  2016-07-23 2016-07-23 19:10:57   \n",
       "\n",
       "          uid  \n",
       "0  3758486201  \n",
       "1  2933941628  \n",
       "2  1465872791  \n",
       "3  2751875787  \n",
       "4  3492372810  "
      ]
     },
     "execution_count": 6,
     "metadata": {},
     "output_type": "execute_result"
    }
   ],
   "source": [
    "vis.head()"
   ]
  },
  {
   "cell_type": "code",
   "execution_count": 7,
   "metadata": {},
   "outputs": [
    {
     "data": {
      "text/html": [
       "<div>\n",
       "<style scoped>\n",
       "    .dataframe tbody tr th:only-of-type {\n",
       "        vertical-align: middle;\n",
       "    }\n",
       "\n",
       "    .dataframe tbody tr th {\n",
       "        vertical-align: top;\n",
       "    }\n",
       "\n",
       "    .dataframe thead th {\n",
       "        text-align: right;\n",
       "    }\n",
       "</style>\n",
       "<table border=\"1\" class=\"dataframe\">\n",
       "  <thead>\n",
       "    <tr style=\"text-align: right;\">\n",
       "      <th></th>\n",
       "      <th>buy_ts</th>\n",
       "      <th>uid</th>\n",
       "      <th>revenue</th>\n",
       "      <th>start_dt</th>\n",
       "    </tr>\n",
       "  </thead>\n",
       "  <tbody>\n",
       "    <tr>\n",
       "      <th>0</th>\n",
       "      <td>2016-07-23 19:13:54</td>\n",
       "      <td>3492372810</td>\n",
       "      <td>1,47</td>\n",
       "      <td>2016-07-23</td>\n",
       "    </tr>\n",
       "    <tr>\n",
       "      <th>1</th>\n",
       "      <td>2016-11-06 02:48:27</td>\n",
       "      <td>1564753091</td>\n",
       "      <td>1,11</td>\n",
       "      <td>2016-11-06</td>\n",
       "    </tr>\n",
       "    <tr>\n",
       "      <th>2</th>\n",
       "      <td>2017-01-31 20:32:42</td>\n",
       "      <td>1385616391</td>\n",
       "      <td>16,8</td>\n",
       "      <td>2017-01-31</td>\n",
       "    </tr>\n",
       "    <tr>\n",
       "      <th>3</th>\n",
       "      <td>2017-01-11 10:52:11</td>\n",
       "      <td>2636761148</td>\n",
       "      <td>11</td>\n",
       "      <td>2017-01-11</td>\n",
       "    </tr>\n",
       "    <tr>\n",
       "      <th>4</th>\n",
       "      <td>2016-11-25 18:57:09</td>\n",
       "      <td>2945629974</td>\n",
       "      <td>4,89</td>\n",
       "      <td>2016-11-25</td>\n",
       "    </tr>\n",
       "  </tbody>\n",
       "</table>\n",
       "</div>"
      ],
      "text/plain": [
       "               buy_ts         uid revenue    start_dt\n",
       "0 2016-07-23 19:13:54  3492372810    1,47  2016-07-23\n",
       "1 2016-11-06 02:48:27  1564753091    1,11  2016-11-06\n",
       "2 2017-01-31 20:32:42  1385616391    16,8  2017-01-31\n",
       "3 2017-01-11 10:52:11  2636761148      11  2017-01-11\n",
       "4 2016-11-25 18:57:09  2945629974    4,89  2016-11-25"
      ]
     },
     "execution_count": 7,
     "metadata": {},
     "output_type": "execute_result"
    }
   ],
   "source": [
    "pur.head()"
   ]
  },
  {
   "cell_type": "code",
   "execution_count": 8,
   "metadata": {},
   "outputs": [
    {
     "data": {
      "text/plain": [
       "((75716, 4), (720679, 6))"
      ]
     },
     "execution_count": 8,
     "metadata": {},
     "output_type": "execute_result"
    }
   ],
   "source": [
    "pur.shape, vis.shape"
   ]
  },
  {
   "cell_type": "code",
   "execution_count": 9,
   "metadata": {},
   "outputs": [
    {
     "name": "stdout",
     "output_type": "stream",
     "text": [
      "<class 'pandas.core.frame.DataFrame'>\n",
      "RangeIndex: 75716 entries, 0 to 75715\n",
      "Data columns (total 4 columns):\n",
      "buy_ts      75716 non-null datetime64[ns]\n",
      "uid         75716 non-null int64\n",
      "revenue     75716 non-null object\n",
      "start_dt    75716 non-null object\n",
      "dtypes: datetime64[ns](1), int64(1), object(2)\n",
      "memory usage: 2.3+ MB\n"
     ]
    }
   ],
   "source": [
    "pur.info()"
   ]
  },
  {
   "cell_type": "code",
   "execution_count": 10,
   "metadata": {},
   "outputs": [
    {
     "name": "stdout",
     "output_type": "stream",
     "text": [
      "<class 'pandas.core.frame.DataFrame'>\n",
      "RangeIndex: 720679 entries, 0 to 720678\n",
      "Data columns (total 6 columns):\n",
      "device       720679 non-null object\n",
      "end_ts       720679 non-null datetime64[ns]\n",
      "source_id    720679 non-null int64\n",
      "start_dt     720679 non-null object\n",
      "start_ts     720679 non-null datetime64[ns]\n",
      "uid          720679 non-null int64\n",
      "dtypes: datetime64[ns](2), int64(2), object(2)\n",
      "memory usage: 33.0+ MB\n"
     ]
    }
   ],
   "source": [
    "vis.info()"
   ]
  },
  {
   "cell_type": "markdown",
   "metadata": {},
   "source": [
    "Соединим данные в единый DataFrame"
   ]
  },
  {
   "cell_type": "code",
   "execution_count": 11,
   "metadata": {
    "collapsed": true
   },
   "outputs": [],
   "source": [
    "df = pd.merge(\n",
    "    vis, pur,\n",
    "    on=['uid']\n",
    ")"
   ]
  },
  {
   "cell_type": "markdown",
   "metadata": {},
   "source": [
    "Добавим признаки <b>is_conversion</b> для того, чтобы отличать сессии, в течение которых состялась покупка"
   ]
  },
  {
   "cell_type": "code",
   "execution_count": 12,
   "metadata": {
    "collapsed": true
   },
   "outputs": [],
   "source": [
    "df['is_conversion'] = df.index.isin(df[\n",
    "    (df['buy_ts'] >= df['start_ts']) &\n",
    "    (df['buy_ts'] <= df['end_ts'])\n",
    "].index).astype('int')"
   ]
  },
  {
   "cell_type": "markdown",
   "metadata": {},
   "source": [
    "Посмотрим только на \"конверсионные\" сессии, переведем признак revenue в float "
   ]
  },
  {
   "cell_type": "code",
   "execution_count": 13,
   "metadata": {
    "collapsed": true
   },
   "outputs": [],
   "source": [
    "df = df[df['is_conversion'] == 1]\n",
    "df['revenue'] = df['revenue'].apply(lambda x: x.replace(',','.')).astype('float')"
   ]
  },
  {
   "cell_type": "markdown",
   "metadata": {},
   "source": [
    "Видим, что есть нюанс, который стоит учитывать при последующем анализе - <b>у пользователя могло быть несколько параллельных сессий, в ходе которых произошла одна или несколько покупок</b>\n",
    "\n",
    "В этом случае ценность от конверсии (или от суммы конверсий) будет распределена <b>равномерно</b> между несколькими сессиями. Приведем пример. Пользователь имел 3 параллельных сессии и 1 одну покупку, которая могла произойти в течение <b>любой</b> из этих сессий. Например, сумма покупки = 6. В таком случае каждая из сессий получит ценность 2. "
   ]
  },
  {
   "cell_type": "markdown",
   "metadata": {},
   "source": [
    "Сначала найдем гарантированные пары 1 сессия = 1 покупка"
   ]
  },
  {
   "cell_type": "code",
   "execution_count": 14,
   "metadata": {
    "collapsed": true
   },
   "outputs": [],
   "source": [
    "df_clean = df.loc[~df.duplicated(subset=['uid', 'buy_ts', 'revenue'], keep=False)]"
   ]
  },
  {
   "cell_type": "markdown",
   "metadata": {},
   "source": [
    "Теперь посмотрим на сессии, описанные выше в комментарии"
   ]
  },
  {
   "cell_type": "code",
   "execution_count": 15,
   "metadata": {
    "collapsed": true
   },
   "outputs": [],
   "source": [
    "df_dupl = df.loc[df.duplicated(subset=['uid', 'buy_ts', 'revenue'], keep=False)].sort_values('buy_ts')"
   ]
  },
  {
   "cell_type": "markdown",
   "metadata": {},
   "source": [
    "Распределим ценность от конверсий между сессиями с помощью показателя div"
   ]
  },
  {
   "cell_type": "code",
   "execution_count": 16,
   "metadata": {
    "collapsed": true
   },
   "outputs": [],
   "source": [
    "grouped = df_dupl[df_dupl.duplicated(subset=['buy_ts', 'revenue'], keep=False)]\\\n",
    "    .groupby(['buy_ts', 'revenue'])[['is_conversion']].count().rename(index=str, columns={'is_conversion': 'div'}).reset_index()"
   ]
  },
  {
   "cell_type": "code",
   "execution_count": 17,
   "metadata": {
    "collapsed": true
   },
   "outputs": [],
   "source": [
    "grouped['buy_ts'] = grouped['buy_ts'].apply(lambda x: pd.to_datetime(x))\n",
    "grouped['revenue'] = grouped['revenue'].apply(lambda x: x.replace(',','.')).astype('float')"
   ]
  },
  {
   "cell_type": "code",
   "execution_count": 18,
   "metadata": {
    "collapsed": true
   },
   "outputs": [],
   "source": [
    "grouped = pd.merge(\n",
    "    grouped, df_dupl,\n",
    "    on=['buy_ts', 'revenue']\n",
    ")"
   ]
  },
  {
   "cell_type": "code",
   "execution_count": 19,
   "metadata": {
    "collapsed": true
   },
   "outputs": [],
   "source": [
    "grouped['revenue'] = round((grouped['revenue'] / grouped['div']),4)"
   ]
  },
  {
   "cell_type": "code",
   "execution_count": 20,
   "metadata": {
    "collapsed": true
   },
   "outputs": [],
   "source": [
    "df = df.rename(index=str, columns={\n",
    "    'start_dt_x': 'start_dt',\n",
    "    'start_dt_y': 'buy_dt'\n",
    "})"
   ]
  },
  {
   "cell_type": "markdown",
   "metadata": {},
   "source": [
    "В итоге получаем все сессии, в которых были покупки."
   ]
  },
  {
   "cell_type": "code",
   "execution_count": 21,
   "metadata": {
    "collapsed": true
   },
   "outputs": [],
   "source": [
    "df = pd.concat([\n",
    "    df_clean,\n",
    "    grouped[['device', 'end_ts', 'source_id', 'start_dt_x', 'start_ts', 'uid',\n",
    "       'buy_ts', 'revenue', 'start_dt_y', 'is_conversion']]\n",
    "])"
   ]
  },
  {
   "cell_type": "code",
   "execution_count": 22,
   "metadata": {
    "collapsed": true
   },
   "outputs": [],
   "source": [
    "df = df.rename(index=str, columns={\n",
    "    'start_dt_x': 'start_dt',\n",
    "    'start_dt_y': 'buy_dt'\n",
    "})"
   ]
  },
  {
   "cell_type": "markdown",
   "metadata": {
    "collapsed": true
   },
   "source": [
    "Проверим, совпадает ли сумма покупок в исходном датафрейме и в том, что мы получили, распределив ценность от конверсий между сессиями"
   ]
  },
  {
   "cell_type": "code",
   "execution_count": 23,
   "metadata": {
    "collapsed": true
   },
   "outputs": [],
   "source": [
    "pur['revenue'] = pur['revenue'].apply(lambda x: x.replace(',','.')).astype('float')"
   ]
  },
  {
   "cell_type": "code",
   "execution_count": 24,
   "metadata": {},
   "outputs": [
    {
     "data": {
      "text/plain": [
       "370824.08"
      ]
     },
     "execution_count": 24,
     "metadata": {},
     "output_type": "execute_result"
    }
   ],
   "source": [
    "pur['revenue'].sum().round(2)"
   ]
  },
  {
   "cell_type": "code",
   "execution_count": 25,
   "metadata": {},
   "outputs": [
    {
     "data": {
      "text/plain": [
       "370824.08"
      ]
     },
     "execution_count": 25,
     "metadata": {},
     "output_type": "execute_result"
    }
   ],
   "source": [
    "df['revenue'].sum().round(2)"
   ]
  },
  {
   "cell_type": "markdown",
   "metadata": {
    "collapsed": true
   },
   "source": [
    "Проверим, совпадает ли количество пользователей в исходном датафрейме и в том, что мы получили, распределив ценность от конверсий между сессиями"
   ]
  },
  {
   "cell_type": "code",
   "execution_count": 26,
   "metadata": {},
   "outputs": [
    {
     "data": {
      "text/plain": [
       "True"
      ]
     },
     "execution_count": 26,
     "metadata": {},
     "output_type": "execute_result"
    }
   ],
   "source": [
    "(pur['uid'].nunique() == df['uid'].nunique())"
   ]
  },
  {
   "cell_type": "markdown",
   "metadata": {
    "collapsed": true
   },
   "source": [
    "Объеденим данные по сессиям"
   ]
  },
  {
   "cell_type": "code",
   "execution_count": 27,
   "metadata": {
    "collapsed": true
   },
   "outputs": [],
   "source": [
    "vis['session_id'] = vis['device'] + '_' + vis['start_ts'].astype('str') + '_' + vis['end_ts'].astype('str') + '_' + vis['uid'].astype('str')"
   ]
  },
  {
   "cell_type": "code",
   "execution_count": 28,
   "metadata": {
    "collapsed": true
   },
   "outputs": [],
   "source": [
    "df['session_id'] = df['device'] + '_' + df['start_ts'].astype('str') + '_' + df['end_ts'].astype('str') + '_' + df['uid'].astype('str')"
   ]
  },
  {
   "cell_type": "code",
   "execution_count": 29,
   "metadata": {
    "collapsed": true
   },
   "outputs": [],
   "source": [
    "t = vis.join(df[['session_id', 'buy_ts', 'revenue', 'buy_dt', 'is_conversion']].set_index('session_id'),\n",
    "         on='session_id'\n",
    ")"
   ]
  },
  {
   "cell_type": "code",
   "execution_count": 30,
   "metadata": {},
   "outputs": [
    {
     "data": {
      "text/plain": [
       "(720679, 11)"
      ]
     },
     "execution_count": 30,
     "metadata": {},
     "output_type": "execute_result"
    }
   ],
   "source": [
    "t.drop_duplicates(subset=['session_id']).shape"
   ]
  },
  {
   "cell_type": "markdown",
   "metadata": {},
   "source": [
    "Наконец, перераспределим доход между сессиями. Чтобы лучше понять, как именно будет осуществляться перераспределение, посмотрим на пример пользователя с id <b>3486882430</b>"
   ]
  },
  {
   "cell_type": "code",
   "execution_count": 31,
   "metadata": {},
   "outputs": [
    {
     "data": {
      "text/html": [
       "<div>\n",
       "<style scoped>\n",
       "    .dataframe tbody tr th:only-of-type {\n",
       "        vertical-align: middle;\n",
       "    }\n",
       "\n",
       "    .dataframe tbody tr th {\n",
       "        vertical-align: top;\n",
       "    }\n",
       "\n",
       "    .dataframe thead th {\n",
       "        text-align: right;\n",
       "    }\n",
       "</style>\n",
       "<table border=\"1\" class=\"dataframe\">\n",
       "  <thead>\n",
       "    <tr style=\"text-align: right;\">\n",
       "      <th></th>\n",
       "      <th>device</th>\n",
       "      <th>end_ts</th>\n",
       "      <th>source_id</th>\n",
       "      <th>start_dt</th>\n",
       "      <th>start_ts</th>\n",
       "      <th>uid</th>\n",
       "      <th>session_id</th>\n",
       "      <th>buy_ts</th>\n",
       "      <th>revenue</th>\n",
       "      <th>buy_dt</th>\n",
       "      <th>is_conversion</th>\n",
       "    </tr>\n",
       "  </thead>\n",
       "  <tbody>\n",
       "    <tr>\n",
       "      <th>45504</th>\n",
       "      <td>desktop</td>\n",
       "      <td>2016-08-01 22:22:58</td>\n",
       "      <td>3</td>\n",
       "      <td>2016-08-01</td>\n",
       "      <td>2016-08-01 22:06:45</td>\n",
       "      <td>3486882430</td>\n",
       "      <td>desktop_2016-08-01 22:06:45_2016-08-01 22:22:5...</td>\n",
       "      <td>2016-08-01 22:16:55</td>\n",
       "      <td>2.445</td>\n",
       "      <td>2016-08-01</td>\n",
       "      <td>1.0</td>\n",
       "    </tr>\n",
       "    <tr>\n",
       "      <th>699705</th>\n",
       "      <td>desktop</td>\n",
       "      <td>2016-08-01 22:18:10</td>\n",
       "      <td>3</td>\n",
       "      <td>2016-08-01</td>\n",
       "      <td>2016-08-01 21:38:04</td>\n",
       "      <td>3486882430</td>\n",
       "      <td>desktop_2016-08-01 21:38:04_2016-08-01 22:18:1...</td>\n",
       "      <td>2016-08-01 21:57:42</td>\n",
       "      <td>4.890</td>\n",
       "      <td>2016-08-01</td>\n",
       "      <td>1.0</td>\n",
       "    </tr>\n",
       "    <tr>\n",
       "      <th>699705</th>\n",
       "      <td>desktop</td>\n",
       "      <td>2016-08-01 22:18:10</td>\n",
       "      <td>3</td>\n",
       "      <td>2016-08-01</td>\n",
       "      <td>2016-08-01 21:38:04</td>\n",
       "      <td>3486882430</td>\n",
       "      <td>desktop_2016-08-01 21:38:04_2016-08-01 22:18:1...</td>\n",
       "      <td>2016-08-01 22:16:55</td>\n",
       "      <td>2.445</td>\n",
       "      <td>2016-08-01</td>\n",
       "      <td>1.0</td>\n",
       "    </tr>\n",
       "  </tbody>\n",
       "</table>\n",
       "</div>"
      ],
      "text/plain": [
       "         device              end_ts  source_id    start_dt  \\\n",
       "45504   desktop 2016-08-01 22:22:58          3  2016-08-01   \n",
       "699705  desktop 2016-08-01 22:18:10          3  2016-08-01   \n",
       "699705  desktop 2016-08-01 22:18:10          3  2016-08-01   \n",
       "\n",
       "                  start_ts         uid  \\\n",
       "45504  2016-08-01 22:06:45  3486882430   \n",
       "699705 2016-08-01 21:38:04  3486882430   \n",
       "699705 2016-08-01 21:38:04  3486882430   \n",
       "\n",
       "                                               session_id              buy_ts  \\\n",
       "45504   desktop_2016-08-01 22:06:45_2016-08-01 22:22:5... 2016-08-01 22:16:55   \n",
       "699705  desktop_2016-08-01 21:38:04_2016-08-01 22:18:1... 2016-08-01 21:57:42   \n",
       "699705  desktop_2016-08-01 21:38:04_2016-08-01 22:18:1... 2016-08-01 22:16:55   \n",
       "\n",
       "        revenue      buy_dt  is_conversion  \n",
       "45504     2.445  2016-08-01            1.0  \n",
       "699705    4.890  2016-08-01            1.0  \n",
       "699705    2.445  2016-08-01            1.0  "
      ]
     },
     "execution_count": 31,
     "metadata": {},
     "output_type": "execute_result"
    }
   ],
   "source": [
    "t[t['uid'] == 3486882430]"
   ]
  },
  {
   "cell_type": "code",
   "execution_count": 32,
   "metadata": {},
   "outputs": [
    {
     "data": {
      "text/html": [
       "<div>\n",
       "<style scoped>\n",
       "    .dataframe tbody tr th:only-of-type {\n",
       "        vertical-align: middle;\n",
       "    }\n",
       "\n",
       "    .dataframe tbody tr th {\n",
       "        vertical-align: top;\n",
       "    }\n",
       "\n",
       "    .dataframe thead th {\n",
       "        text-align: right;\n",
       "    }\n",
       "</style>\n",
       "<table border=\"1\" class=\"dataframe\">\n",
       "  <thead>\n",
       "    <tr style=\"text-align: right;\">\n",
       "      <th></th>\n",
       "      <th>device</th>\n",
       "      <th>end_ts</th>\n",
       "      <th>source_id</th>\n",
       "      <th>start_dt</th>\n",
       "      <th>start_ts</th>\n",
       "      <th>uid</th>\n",
       "      <th>session_id</th>\n",
       "    </tr>\n",
       "  </thead>\n",
       "  <tbody>\n",
       "    <tr>\n",
       "      <th>45504</th>\n",
       "      <td>desktop</td>\n",
       "      <td>2016-08-01 22:22:58</td>\n",
       "      <td>3</td>\n",
       "      <td>2016-08-01</td>\n",
       "      <td>2016-08-01 22:06:45</td>\n",
       "      <td>3486882430</td>\n",
       "      <td>desktop_2016-08-01 22:06:45_2016-08-01 22:22:5...</td>\n",
       "    </tr>\n",
       "    <tr>\n",
       "      <th>699705</th>\n",
       "      <td>desktop</td>\n",
       "      <td>2016-08-01 22:18:10</td>\n",
       "      <td>3</td>\n",
       "      <td>2016-08-01</td>\n",
       "      <td>2016-08-01 21:38:04</td>\n",
       "      <td>3486882430</td>\n",
       "      <td>desktop_2016-08-01 21:38:04_2016-08-01 22:18:1...</td>\n",
       "    </tr>\n",
       "  </tbody>\n",
       "</table>\n",
       "</div>"
      ],
      "text/plain": [
       "         device              end_ts  source_id    start_dt  \\\n",
       "45504   desktop 2016-08-01 22:22:58          3  2016-08-01   \n",
       "699705  desktop 2016-08-01 22:18:10          3  2016-08-01   \n",
       "\n",
       "                  start_ts         uid  \\\n",
       "45504  2016-08-01 22:06:45  3486882430   \n",
       "699705 2016-08-01 21:38:04  3486882430   \n",
       "\n",
       "                                               session_id  \n",
       "45504   desktop_2016-08-01 22:06:45_2016-08-01 22:22:5...  \n",
       "699705  desktop_2016-08-01 21:38:04_2016-08-01 22:18:1...  "
      ]
     },
     "execution_count": 32,
     "metadata": {},
     "output_type": "execute_result"
    }
   ],
   "source": [
    "vis[(vis['uid'] == 3486882430)]"
   ]
  },
  {
   "cell_type": "code",
   "execution_count": 33,
   "metadata": {},
   "outputs": [
    {
     "data": {
      "text/html": [
       "<div>\n",
       "<style scoped>\n",
       "    .dataframe tbody tr th:only-of-type {\n",
       "        vertical-align: middle;\n",
       "    }\n",
       "\n",
       "    .dataframe tbody tr th {\n",
       "        vertical-align: top;\n",
       "    }\n",
       "\n",
       "    .dataframe thead th {\n",
       "        text-align: right;\n",
       "    }\n",
       "</style>\n",
       "<table border=\"1\" class=\"dataframe\">\n",
       "  <thead>\n",
       "    <tr style=\"text-align: right;\">\n",
       "      <th></th>\n",
       "      <th>buy_ts</th>\n",
       "      <th>uid</th>\n",
       "      <th>revenue</th>\n",
       "      <th>start_dt</th>\n",
       "    </tr>\n",
       "  </thead>\n",
       "  <tbody>\n",
       "    <tr>\n",
       "      <th>4666</th>\n",
       "      <td>2016-08-01 22:16:55</td>\n",
       "      <td>3486882430</td>\n",
       "      <td>4.89</td>\n",
       "      <td>2016-08-01</td>\n",
       "    </tr>\n",
       "    <tr>\n",
       "      <th>73630</th>\n",
       "      <td>2016-08-01 21:57:42</td>\n",
       "      <td>3486882430</td>\n",
       "      <td>4.89</td>\n",
       "      <td>2016-08-01</td>\n",
       "    </tr>\n",
       "  </tbody>\n",
       "</table>\n",
       "</div>"
      ],
      "text/plain": [
       "                   buy_ts         uid  revenue    start_dt\n",
       "4666  2016-08-01 22:16:55  3486882430     4.89  2016-08-01\n",
       "73630 2016-08-01 21:57:42  3486882430     4.89  2016-08-01"
      ]
     },
     "execution_count": 33,
     "metadata": {},
     "output_type": "execute_result"
    }
   ],
   "source": [
    "pur[(pur['uid'] == 3486882430)]"
   ]
  },
  {
   "cell_type": "markdown",
   "metadata": {},
   "source": [
    "Видим, что пользователь имел 2 сессии и 2 покупки. Однако покупка, совершенная в 21:57:42, могла быть совершеная только в течение одной конкретной сессии (индекс 699705), которая началась в 21:38:04. Ценность этой сессии = 4.89.\n",
    "\n",
    "Вторая покупка, совершенная в 22:16:55, может относится как к сессии с индексом 699705, так и к сессии с индексом (45505). Ценность второй покупки = 4.89. Для того, чтобы корректно оценить доход от каждой сессии, необходимо разделить ценность между этими сессиями. Таким образом,\n",
    "    - ценность сессии 699705: 4.89 (первая покупка) + 2,445 (половина ценности второй покупки) = 7.335\n",
    "    - ценность сессии 45504:  2,445 (половина ценности второй покупки)"
   ]
  },
  {
   "cell_type": "code",
   "execution_count": 34,
   "metadata": {
    "collapsed": true
   },
   "outputs": [],
   "source": [
    "grouped = t.groupby(level=0).filter(lambda x: len(x) > 1)"
   ]
  },
  {
   "cell_type": "code",
   "execution_count": 35,
   "metadata": {
    "collapsed": true
   },
   "outputs": [],
   "source": [
    "t = t.join(\n",
    "    grouped.groupby('session_id')[['revenue']].sum().rename(index=str, columns={'revenue': 'revenue_distributed'}),\n",
    "    on='session_id'\n",
    ")"
   ]
  },
  {
   "cell_type": "markdown",
   "metadata": {},
   "source": [
    "Объем перераспределенного дохода"
   ]
  },
  {
   "cell_type": "code",
   "execution_count": 36,
   "metadata": {},
   "outputs": [
    {
     "data": {
      "text/plain": [
       "13204.0"
      ]
     },
     "execution_count": 36,
     "metadata": {},
     "output_type": "execute_result"
    }
   ],
   "source": [
    "t['revenue_distributed'].sum().round()"
   ]
  },
  {
   "cell_type": "code",
   "execution_count": 37,
   "metadata": {
    "collapsed": true
   },
   "outputs": [],
   "source": [
    "t['revenue_distributed'] = t['revenue_distributed'].fillna(t['revenue'])"
   ]
  },
  {
   "cell_type": "code",
   "execution_count": 38,
   "metadata": {
    "collapsed": true
   },
   "outputs": [],
   "source": [
    "t = t.drop_duplicates(subset=['session_id'])"
   ]
  },
  {
   "cell_type": "markdown",
   "metadata": {},
   "source": [
    "Проверим сумму доходов исходного и получившегося датафреймов"
   ]
  },
  {
   "cell_type": "code",
   "execution_count": 39,
   "metadata": {},
   "outputs": [
    {
     "data": {
      "text/plain": [
       "True"
      ]
     },
     "execution_count": 39,
     "metadata": {},
     "output_type": "execute_result"
    }
   ],
   "source": [
    "pur['revenue'].sum().round(2) == t['revenue_distributed'].sum().round(2)"
   ]
  },
  {
   "cell_type": "markdown",
   "metadata": {},
   "source": [
    "Проверим количество уникальных пользователей исходного и получившегося датафреймов"
   ]
  },
  {
   "cell_type": "code",
   "execution_count": 40,
   "metadata": {},
   "outputs": [
    {
     "data": {
      "text/plain": [
       "True"
      ]
     },
     "execution_count": 40,
     "metadata": {},
     "output_type": "execute_result"
    }
   ],
   "source": [
    "vis['uid'].nunique() == t['uid'].nunique()"
   ]
  },
  {
   "cell_type": "markdown",
   "metadata": {},
   "source": [
    "Получим полный сессионный датафрейм, содержащий данные о покупках"
   ]
  },
  {
   "cell_type": "code",
   "execution_count": 41,
   "metadata": {
    "collapsed": true
   },
   "outputs": [],
   "source": [
    "t['end_dt'] = t['end_ts'].apply(lambda x: x.date()).astype('str')"
   ]
  },
  {
   "cell_type": "code",
   "execution_count": 42,
   "metadata": {
    "collapsed": true
   },
   "outputs": [],
   "source": [
    "df = t[[\n",
    "    'uid', 'device', 'source_id', 'start_dt', 'start_ts', 'end_dt', 'end_ts',\n",
    "    'buy_dt', 'buy_ts','revenue_distributed', 'session_id', 'is_conversion'\n",
    "]]"
   ]
  },
  {
   "cell_type": "markdown",
   "metadata": {},
   "source": [
    "<hr>"
   ]
  },
  {
   "cell_type": "code",
   "execution_count": 43,
   "metadata": {
    "collapsed": true
   },
   "outputs": [],
   "source": [
    "df = df.fillna(0)"
   ]
  },
  {
   "cell_type": "markdown",
   "metadata": {},
   "source": [
    "#### 1. Эффективность каналов с точки зрения привлечения пользователей"
   ]
  },
  {
   "cell_type": "markdown",
   "metadata": {},
   "source": [
    "Считаем эффективность каналов с точки зрения привлечения пользователей. Для этого рассчитаем показатель <b>retention</b> (целевое действие = заход на сервис) для каждого канала."
   ]
  },
  {
   "cell_type": "markdown",
   "metadata": {},
   "source": [
    "Создадим необходимые признаки"
   ]
  },
  {
   "cell_type": "code",
   "execution_count": 44,
   "metadata": {
    "collapsed": true
   },
   "outputs": [],
   "source": [
    "df['month'] = df['start_ts'].apply(lambda x: x.month)\n",
    "df['year'] = df['start_ts'].apply(lambda x: x.year)"
   ]
  },
  {
   "cell_type": "code",
   "execution_count": 45,
   "metadata": {
    "collapsed": true
   },
   "outputs": [],
   "source": [
    "df['year_month'] = df['year'].astype('str') + \"_\" + df['month'].astype('str')"
   ]
  },
  {
   "cell_type": "markdown",
   "metadata": {},
   "source": [
    "Посмотрим на renetion когорты Q4 2016, а также когорты Q1 2017. Сравним их между собой"
   ]
  },
  {
   "cell_type": "code",
   "execution_count": 46,
   "metadata": {
    "collapsed": true
   },
   "outputs": [],
   "source": [
    "df_copy = df.copy()"
   ]
  },
  {
   "cell_type": "markdown",
   "metadata": {},
   "source": [
    "Создадим признак <b>is_1st_interaction</b>, обозначающий первую сессию пользователя"
   ]
  },
  {
   "cell_type": "code",
   "execution_count": 47,
   "metadata": {
    "collapsed": true
   },
   "outputs": [],
   "source": [
    "fir_inter = df.groupby(['uid', 'source_id', 'end_ts'])[['start_ts']].min().reset_index().sort_values(by=['uid', 'start_ts'])\\\n",
    "   .drop_duplicates(subset='uid', keep='first')"
   ]
  },
  {
   "cell_type": "code",
   "execution_count": 48,
   "metadata": {
    "collapsed": true
   },
   "outputs": [],
   "source": [
    "fir_inter['is_1st_interaction'] = 1"
   ]
  },
  {
   "cell_type": "code",
   "execution_count": 49,
   "metadata": {
    "collapsed": true
   },
   "outputs": [],
   "source": [
    "df = pd.merge(\n",
    "    df, fir_inter,\n",
    "    on=['uid', 'source_id', 'end_ts', 'start_ts'],\n",
    "    how='left'\n",
    ")"
   ]
  },
  {
   "cell_type": "markdown",
   "metadata": {},
   "source": [
    "Для расчета эффективнее всего будет взять \"свежие\" данные. Поэтому будем использовать данные за Q4 2016 + Q1 2017 + 2 месяца 2017"
   ]
  },
  {
   "cell_type": "markdown",
   "metadata": {},
   "source": [
    "Создадим общую когорту Q4 2016"
   ]
  },
  {
   "cell_type": "code",
   "execution_count": 50,
   "metadata": {
    "collapsed": true
   },
   "outputs": [],
   "source": [
    "q4_2016 = df[\n",
    "    (df['is_1st_interaction'] == 1) &\n",
    "    ((df['year_month'] == '2016_10') | (df['year_month'] == '2016_11') | (df['year_month'] == '2016_12'))\n",
    "]"
   ]
  },
  {
   "cell_type": "markdown",
   "metadata": {},
   "source": [
    "Видим, что большинство новых клиентов в периоде привлекли каналы 3,4 и 5. На них будем смотреть в первую очередь. "
   ]
  },
  {
   "cell_type": "code",
   "execution_count": 51,
   "metadata": {},
   "outputs": [
    {
     "data": {
      "text/plain": [
       "4     33.55\n",
       "3     31.38\n",
       "5     21.80\n",
       "2      6.14\n",
       "10     2.71\n",
       "1      2.23\n",
       "9      2.17\n",
       "7      0.02\n",
       "6      0.00\n",
       "Name: source_id, dtype: float64"
      ]
     },
     "execution_count": 51,
     "metadata": {},
     "output_type": "execute_result"
    }
   ],
   "source": [
    "(q4_2016['source_id'].value_counts(normalize=True) * 100).round(2)"
   ]
  },
  {
   "cell_type": "markdown",
   "metadata": {},
   "source": [
    "Создадим когорты по первому источнику перехода, а также когорты по месяцам 2017. Исключим из расчетов источники 7 и 6, рассчитаем retention"
   ]
  },
  {
   "cell_type": "code",
   "execution_count": 52,
   "metadata": {},
   "outputs": [
    {
     "data": {
      "text/html": [
       "<div>\n",
       "<style scoped>\n",
       "    .dataframe tbody tr th:only-of-type {\n",
       "        vertical-align: middle;\n",
       "    }\n",
       "\n",
       "    .dataframe tbody tr th {\n",
       "        vertical-align: top;\n",
       "    }\n",
       "\n",
       "    .dataframe thead th {\n",
       "        text-align: right;\n",
       "    }\n",
       "</style>\n",
       "<table border=\"1\" class=\"dataframe\">\n",
       "  <thead>\n",
       "    <tr style=\"text-align: right;\">\n",
       "      <th></th>\n",
       "      <th>2017_q4</th>\n",
       "      <th>2017_q1</th>\n",
       "      <th>2017_q2</th>\n",
       "    </tr>\n",
       "  </thead>\n",
       "  <tbody>\n",
       "    <tr>\n",
       "      <th>source 1</th>\n",
       "      <td>100.0</td>\n",
       "      <td>14.65</td>\n",
       "      <td>6.07</td>\n",
       "    </tr>\n",
       "    <tr>\n",
       "      <th>source_2</th>\n",
       "      <td>100.0</td>\n",
       "      <td>15.22</td>\n",
       "      <td>7.10</td>\n",
       "    </tr>\n",
       "    <tr>\n",
       "      <th>source_3</th>\n",
       "      <td>100.0</td>\n",
       "      <td>13.63</td>\n",
       "      <td>5.56</td>\n",
       "    </tr>\n",
       "    <tr>\n",
       "      <th>source_4</th>\n",
       "      <td>100.0</td>\n",
       "      <td>11.73</td>\n",
       "      <td>4.77</td>\n",
       "    </tr>\n",
       "    <tr>\n",
       "      <th>source_5</th>\n",
       "      <td>100.0</td>\n",
       "      <td>9.28</td>\n",
       "      <td>3.72</td>\n",
       "    </tr>\n",
       "    <tr>\n",
       "      <th>source_9</th>\n",
       "      <td>100.0</td>\n",
       "      <td>25.21</td>\n",
       "      <td>9.51</td>\n",
       "    </tr>\n",
       "    <tr>\n",
       "      <th>source_10</th>\n",
       "      <td>100.0</td>\n",
       "      <td>11.93</td>\n",
       "      <td>6.42</td>\n",
       "    </tr>\n",
       "  </tbody>\n",
       "</table>\n",
       "</div>"
      ],
      "text/plain": [
       "           2017_q4  2017_q1  2017_q2\n",
       "source 1     100.0    14.65     6.07\n",
       "source_2     100.0    15.22     7.10\n",
       "source_3     100.0    13.63     5.56\n",
       "source_4     100.0    11.73     4.77\n",
       "source_5     100.0     9.28     3.72\n",
       "source_9     100.0    25.21     9.51\n",
       "source_10    100.0    11.93     6.42"
      ]
     },
     "execution_count": 52,
     "metadata": {},
     "output_type": "execute_result"
    }
   ],
   "source": [
    "s1 = q4_2016[q4_2016['source_id'] == 1]['uid']\n",
    "s2 = q4_2016[q4_2016['source_id'] == 2]['uid']\n",
    "s3 = q4_2016[q4_2016['source_id'] == 3]['uid']\n",
    "s4 = q4_2016[q4_2016['source_id'] == 4]['uid']\n",
    "s5 = q4_2016[q4_2016['source_id'] == 5]['uid']\n",
    "s9 = q4_2016[q4_2016['source_id'] == 9]['uid']\n",
    "s10 = q4_2016[q4_2016['source_id'] == 10]['uid']\n",
    "\n",
    "c2016_q4 = df[(df['year_month'] == '2016_10') | (df['year_month'] == '2016_11') | (df['year_month'] == '2016_12')]['uid'].drop_duplicates()\n",
    "c2017_q1 = df[(df['year_month'] == '2017_1') | (df['year_month'] == '2017_2') | (df['year_month'] == '2017_3')]['uid'].drop_duplicates()\n",
    "c2017_q2 = df[(df['year_month'] == '2017_4') | (df['year_month'] == '2017_5')]['uid'].drop_duplicates()\n",
    "\n",
    "renetion_q4_2016 = pd.DataFrame([\n",
    "    [(s1.isin(c2016_q4).value_counts()[True] / s1.shape[0] * 100).round(2),\n",
    "    (s1.isin(c2017_q1).value_counts()[True] / s1.shape[0] * 100).round(2),\n",
    "    (s1.isin(c2017_q2).value_counts()[True] / s1.shape[0] * 100).round(2)],\n",
    "\n",
    "    [(s2.isin(c2016_q4).value_counts()[True] / s2.shape[0] * 100).round(2),\n",
    "    (s2.isin(c2017_q1).value_counts()[True] / s2.shape[0] * 100).round(2),\n",
    "    (s2.isin(c2017_q2).value_counts()[True] / s2.shape[0] * 100).round(2)],\n",
    "\n",
    "    [(s3.isin(c2016_q4).value_counts()[True] / s3.shape[0] * 100).round(2),\n",
    "    (s3.isin(c2017_q1).value_counts()[True] / s3.shape[0] * 100).round(2),\n",
    "    (s3.isin(c2017_q2).value_counts()[True] / s3.shape[0] * 100).round(2)],\n",
    "\n",
    "    [(s4.isin(c2016_q4).value_counts()[True] / s4.shape[0] * 100).round(2),\n",
    "    (s4.isin(c2017_q1).value_counts()[True] / s4.shape[0] * 100).round(2),\n",
    "    (s4.isin(c2017_q2).value_counts()[True] / s4.shape[0] * 100).round(2)],\n",
    "\n",
    "    [(s5.isin(c2016_q4).value_counts()[True] / s5.shape[0] * 100).round(2),\n",
    "    (s5.isin(c2017_q1).value_counts()[True] / s5.shape[0] * 100).round(2),\n",
    "    (s5.isin(c2017_q2).value_counts()[True] / s5.shape[0] * 100).round(2)],\n",
    "\n",
    "    [(s9.isin(c2016_q4).value_counts()[True] / s9.shape[0] * 100).round(2),\n",
    "    (s9.isin(c2017_q1).value_counts()[True] / s9.shape[0] * 100).round(2),\n",
    "    (s9.isin(c2017_q2).value_counts()[True] / s9.shape[0] * 100).round(2)],\n",
    "\n",
    "    [(s10.isin(c2016_q4).value_counts()[True] / s10.shape[0] * 100).round(2),\n",
    "    (s10.isin(c2017_q1).value_counts()[True] / s10.shape[0] * 100).round(2),\n",
    "    (s10.isin(c2017_q2).value_counts()[True] / s10.shape[0] * 100).round(2)]\n",
    "],\n",
    "columns=['2017_q4', '2017_q1', '2017_q2'],\n",
    "index=['source 1', 'source_2', 'source_3', 'source_4', 'source_5', 'source_9', 'source_10',]);\n",
    "renetion_q4_2016"
   ]
  },
  {
   "cell_type": "code",
   "execution_count": 53,
   "metadata": {},
   "outputs": [
    {
     "data": {
      "image/png": "[encoded data removed]",
      "text/plain": [
       "<matplotlib.figure.Figure at 0x1a0fb8bef0>"
      ]
     },
     "metadata": {},
     "output_type": "display_data"
    }
   ],
   "source": [
    "renetion_q4_2016.T.plot();"
   ]
  },
  {
   "cell_type": "markdown",
   "metadata": {},
   "source": [
    "Видим, что наилучший retention rate у источника 9, а среди наиболее массовых источников (3,4,5) retention лучше у источника 3. Посмотрим на retention q1_2017"
   ]
  },
  {
   "cell_type": "code",
   "execution_count": 54,
   "metadata": {
    "collapsed": true
   },
   "outputs": [],
   "source": [
    "q1_2017 = df[\n",
    "    (df['is_1st_interaction'] == 1) &\n",
    "    ((df['year_month'] == '2017_1') | (df['year_month'] == '2017_2') | (df['year_month'] == '2017_3'))\n",
    "]"
   ]
  },
  {
   "cell_type": "code",
   "execution_count": 55,
   "metadata": {},
   "outputs": [
    {
     "data": {
      "text/html": [
       "<div>\n",
       "<style scoped>\n",
       "    .dataframe tbody tr th:only-of-type {\n",
       "        vertical-align: middle;\n",
       "    }\n",
       "\n",
       "    .dataframe tbody tr th {\n",
       "        vertical-align: top;\n",
       "    }\n",
       "\n",
       "    .dataframe thead th {\n",
       "        text-align: right;\n",
       "    }\n",
       "</style>\n",
       "<table border=\"1\" class=\"dataframe\">\n",
       "  <thead>\n",
       "    <tr style=\"text-align: right;\">\n",
       "      <th></th>\n",
       "      <th>2017_q1</th>\n",
       "      <th>2017_q2</th>\n",
       "    </tr>\n",
       "  </thead>\n",
       "  <tbody>\n",
       "    <tr>\n",
       "      <th>source 1</th>\n",
       "      <td>100.0</td>\n",
       "      <td>9.10</td>\n",
       "    </tr>\n",
       "    <tr>\n",
       "      <th>source_2</th>\n",
       "      <td>100.0</td>\n",
       "      <td>8.00</td>\n",
       "    </tr>\n",
       "    <tr>\n",
       "      <th>source_3</th>\n",
       "      <td>100.0</td>\n",
       "      <td>7.07</td>\n",
       "    </tr>\n",
       "    <tr>\n",
       "      <th>source_4</th>\n",
       "      <td>100.0</td>\n",
       "      <td>5.75</td>\n",
       "    </tr>\n",
       "    <tr>\n",
       "      <th>source_5</th>\n",
       "      <td>100.0</td>\n",
       "      <td>5.05</td>\n",
       "    </tr>\n",
       "    <tr>\n",
       "      <th>source_9</th>\n",
       "      <td>100.0</td>\n",
       "      <td>13.03</td>\n",
       "    </tr>\n",
       "    <tr>\n",
       "      <th>source_10</th>\n",
       "      <td>100.0</td>\n",
       "      <td>6.18</td>\n",
       "    </tr>\n",
       "  </tbody>\n",
       "</table>\n",
       "</div>"
      ],
      "text/plain": [
       "           2017_q1  2017_q2\n",
       "source 1     100.0     9.10\n",
       "source_2     100.0     8.00\n",
       "source_3     100.0     7.07\n",
       "source_4     100.0     5.75\n",
       "source_5     100.0     5.05\n",
       "source_9     100.0    13.03\n",
       "source_10    100.0     6.18"
      ]
     },
     "execution_count": 55,
     "metadata": {},
     "output_type": "execute_result"
    }
   ],
   "source": [
    "s1 = q1_2017[q1_2017['source_id'] == 1]['uid']\n",
    "s2 = q1_2017[q1_2017['source_id'] == 2]['uid']\n",
    "s3 = q1_2017[q1_2017['source_id'] == 3]['uid']\n",
    "s4 = q1_2017[q1_2017['source_id'] == 4]['uid']\n",
    "s5 = q1_2017[q1_2017['source_id'] == 5]['uid']\n",
    "s9 = q1_2017[q1_2017['source_id'] == 9]['uid']\n",
    "s10 = q1_2017[q1_2017['source_id'] == 10]['uid']\n",
    "\n",
    "c2017_q1 = df[(df['year_month'] == '2017_1') | (df['year_month'] == '2017_2') | (df['year_month'] == '2017_3')]['uid'].drop_duplicates()\n",
    "c2017_q2 = df[(df['year_month'] == '2017_4') | (df['year_month'] == '2017_5')]['uid'].drop_duplicates()\n",
    "\n",
    "renetion_q1_2017 = pd.DataFrame([\n",
    "    [\n",
    "    (s1.isin(c2017_q1).value_counts()[True] / s1.shape[0] * 100).round(2),\n",
    "    (s1.isin(c2017_q2).value_counts()[True] / s1.shape[0] * 100).round(2)],\n",
    "\n",
    "    [\n",
    "    (s2.isin(c2017_q1).value_counts()[True] / s2.shape[0] * 100).round(2),\n",
    "    (s2.isin(c2017_q2).value_counts()[True] / s2.shape[0] * 100).round(2)],\n",
    "\n",
    "    [\n",
    "    (s3.isin(c2017_q1).value_counts()[True] / s3.shape[0] * 100).round(2),\n",
    "    (s3.isin(c2017_q2).value_counts()[True] / s3.shape[0] * 100).round(2)],\n",
    "\n",
    "    [\n",
    "    (s4.isin(c2017_q1).value_counts()[True] / s4.shape[0] * 100).round(2),\n",
    "    (s4.isin(c2017_q2).value_counts()[True] / s4.shape[0] * 100).round(2)],\n",
    "\n",
    "    [\n",
    "    (s5.isin(c2017_q1).value_counts()[True] / s5.shape[0] * 100).round(2),\n",
    "    (s5.isin(c2017_q2).value_counts()[True] / s5.shape[0] * 100).round(2)],\n",
    "\n",
    "    [\n",
    "    (s9.isin(c2017_q1).value_counts()[True] / s9.shape[0] * 100).round(2),\n",
    "    (s9.isin(c2017_q2).value_counts()[True] / s9.shape[0] * 100).round(2)],\n",
    "\n",
    "    [\n",
    "    (s10.isin(c2017_q1).value_counts()[True] / s10.shape[0] * 100).round(2),\n",
    "    (s10.isin(c2017_q2).value_counts()[True] / s10.shape[0] * 100).round(2)]\n",
    "],\n",
    "columns=['2017_q1', '2017_q2'],\n",
    "index=['source 1', 'source_2', 'source_3', 'source_4', 'source_5', 'source_9', 'source_10',]);\n",
    "renetion_q1_2017"
   ]
  },
  {
   "cell_type": "code",
   "execution_count": 56,
   "metadata": {},
   "outputs": [
    {
     "data": {
      "image/png": "[encoded data removed]",
      "text/plain": [
       "<matplotlib.figure.Figure at 0x1a1517d780>"
      ]
     },
     "metadata": {},
     "output_type": "display_data"
    }
   ],
   "source": [
    "renetion_q1_2017.T.plot();"
   ]
  },
  {
   "cell_type": "markdown",
   "metadata": {},
   "source": [
    "Наконец, посмотрим на retention помесячно. Возьмем q1 2016, но теперь разобъем когорты на месяцы. С учетом данных выше будет достаточно посмотреть на 1 месяц. Например, октябрь 2016."
   ]
  },
  {
   "cell_type": "code",
   "execution_count": 57,
   "metadata": {
    "scrolled": true
   },
   "outputs": [
    {
     "data": {
      "text/html": [
       "<div>\n",
       "<style scoped>\n",
       "    .dataframe tbody tr th:only-of-type {\n",
       "        vertical-align: middle;\n",
       "    }\n",
       "\n",
       "    .dataframe tbody tr th {\n",
       "        vertical-align: top;\n",
       "    }\n",
       "\n",
       "    .dataframe thead th {\n",
       "        text-align: right;\n",
       "    }\n",
       "</style>\n",
       "<table border=\"1\" class=\"dataframe\">\n",
       "  <thead>\n",
       "    <tr style=\"text-align: right;\">\n",
       "      <th></th>\n",
       "      <th>2016_10m</th>\n",
       "      <th>2016_11m</th>\n",
       "      <th>2016_12m</th>\n",
       "      <th>2017_1m</th>\n",
       "      <th>2017_2m</th>\n",
       "      <th>2017_3m</th>\n",
       "      <th>2017_4m</th>\n",
       "      <th>2017_5m</th>\n",
       "    </tr>\n",
       "  </thead>\n",
       "  <tbody>\n",
       "    <tr>\n",
       "      <th>source 1</th>\n",
       "      <td>100.0</td>\n",
       "      <td>14.87</td>\n",
       "      <td>9.81</td>\n",
       "      <td>7.04</td>\n",
       "      <td>5.95</td>\n",
       "      <td>4.96</td>\n",
       "      <td>3.87</td>\n",
       "      <td>3.87</td>\n",
       "    </tr>\n",
       "    <tr>\n",
       "      <th>source_2</th>\n",
       "      <td>100.0</td>\n",
       "      <td>14.78</td>\n",
       "      <td>8.51</td>\n",
       "      <td>6.79</td>\n",
       "      <td>6.71</td>\n",
       "      <td>6.30</td>\n",
       "      <td>4.69</td>\n",
       "      <td>4.61</td>\n",
       "    </tr>\n",
       "    <tr>\n",
       "      <th>source_3</th>\n",
       "      <td>100.0</td>\n",
       "      <td>11.82</td>\n",
       "      <td>7.74</td>\n",
       "      <td>6.14</td>\n",
       "      <td>5.44</td>\n",
       "      <td>4.92</td>\n",
       "      <td>3.34</td>\n",
       "      <td>3.28</td>\n",
       "    </tr>\n",
       "    <tr>\n",
       "      <th>source_4</th>\n",
       "      <td>100.0</td>\n",
       "      <td>9.39</td>\n",
       "      <td>6.36</td>\n",
       "      <td>5.11</td>\n",
       "      <td>4.25</td>\n",
       "      <td>4.27</td>\n",
       "      <td>2.91</td>\n",
       "      <td>2.68</td>\n",
       "    </tr>\n",
       "    <tr>\n",
       "      <th>source_5</th>\n",
       "      <td>100.0</td>\n",
       "      <td>7.63</td>\n",
       "      <td>4.72</td>\n",
       "      <td>3.69</td>\n",
       "      <td>3.63</td>\n",
       "      <td>3.13</td>\n",
       "      <td>2.15</td>\n",
       "      <td>1.70</td>\n",
       "    </tr>\n",
       "    <tr>\n",
       "      <th>source_9</th>\n",
       "      <td>100.0</td>\n",
       "      <td>19.73</td>\n",
       "      <td>14.32</td>\n",
       "      <td>9.24</td>\n",
       "      <td>9.36</td>\n",
       "      <td>11.16</td>\n",
       "      <td>5.30</td>\n",
       "      <td>4.62</td>\n",
       "    </tr>\n",
       "    <tr>\n",
       "      <th>source_10</th>\n",
       "      <td>100.0</td>\n",
       "      <td>9.31</td>\n",
       "      <td>5.10</td>\n",
       "      <td>4.35</td>\n",
       "      <td>3.67</td>\n",
       "      <td>4.08</td>\n",
       "      <td>3.60</td>\n",
       "      <td>3.54</td>\n",
       "    </tr>\n",
       "  </tbody>\n",
       "</table>\n",
       "</div>"
      ],
      "text/plain": [
       "           2016_10m  2016_11m  2016_12m  2017_1m  2017_2m  2017_3m  2017_4m  \\\n",
       "source 1      100.0     14.87      9.81     7.04     5.95     4.96     3.87   \n",
       "source_2      100.0     14.78      8.51     6.79     6.71     6.30     4.69   \n",
       "source_3      100.0     11.82      7.74     6.14     5.44     4.92     3.34   \n",
       "source_4      100.0      9.39      6.36     5.11     4.25     4.27     2.91   \n",
       "source_5      100.0      7.63      4.72     3.69     3.63     3.13     2.15   \n",
       "source_9      100.0     19.73     14.32     9.24     9.36    11.16     5.30   \n",
       "source_10     100.0      9.31      5.10     4.35     3.67     4.08     3.60   \n",
       "\n",
       "           2017_5m  \n",
       "source 1      3.87  \n",
       "source_2      4.61  \n",
       "source_3      3.28  \n",
       "source_4      2.68  \n",
       "source_5      1.70  \n",
       "source_9      4.62  \n",
       "source_10     3.54  "
      ]
     },
     "execution_count": 57,
     "metadata": {},
     "output_type": "execute_result"
    }
   ],
   "source": [
    "m10_2016 = df[\n",
    "    (df['is_1st_interaction'] == 1) & (df['year_month'] == '2016_10')\n",
    "]\n",
    "\n",
    "s1 = m10_2016[m10_2016['source_id'] == 1]['uid']\n",
    "s2 = m10_2016[m10_2016['source_id'] == 2]['uid']\n",
    "s3 = m10_2016[m10_2016['source_id'] == 3]['uid']\n",
    "s4 = m10_2016[m10_2016['source_id'] == 4]['uid']\n",
    "s5 = m10_2016[m10_2016['source_id'] == 5]['uid']\n",
    "s9 = m10_2016[m10_2016['source_id'] == 9]['uid']\n",
    "s10 = m10_2016[m10_2016['source_id'] == 10]['uid']\n",
    "\n",
    "c2016_10 = df[(df['year_month'] == '2016_10')]['uid'].drop_duplicates()\n",
    "c2016_11 = df[(df['year_month'] == '2016_11')]['uid'].drop_duplicates()\n",
    "c2016_12 = df[(df['year_month'] == '2016_12')]['uid'].drop_duplicates()\n",
    "c2017_1 = df[(df['year_month'] == '2017_1')]['uid'].drop_duplicates()\n",
    "c2017_2 = df[(df['year_month'] == '2017_2')]['uid'].drop_duplicates()\n",
    "c2017_3 = df[(df['year_month'] == '2017_3')]['uid'].drop_duplicates()\n",
    "c2017_4 = df[(df['year_month'] == '2017_4')]['uid'].drop_duplicates()\n",
    "c2017_5 = df[(df['year_month'] == '2017_5')]['uid'].drop_duplicates()\n",
    "\n",
    "renetion_m10_2016 = pd.DataFrame([\n",
    "    [(s1.isin(c2016_10).value_counts()[True] / s1.shape[0] * 100).round(2),\n",
    "    (s1.isin(c2016_11).value_counts()[True] / s1.shape[0] * 100).round(2),\n",
    "    (s1.isin(c2016_12).value_counts()[True] / s1.shape[0] * 100).round(2),\n",
    "    (s1.isin(c2017_1).value_counts()[True] / s1.shape[0] * 100).round(2),\n",
    "    (s1.isin(c2017_2).value_counts()[True] / s1.shape[0] * 100).round(2),\n",
    "    (s1.isin(c2017_3).value_counts()[True] / s1.shape[0] * 100).round(2),\n",
    "    (s1.isin(c2017_4).value_counts()[True] / s1.shape[0] * 100).round(2),\n",
    "    (s1.isin(c2017_5).value_counts()[True] / s1.shape[0] * 100).round(2)],\n",
    "\n",
    "    [(s2.isin(c2016_10).value_counts()[True] / s2.shape[0] * 100).round(2),\n",
    "    (s2.isin(c2016_11).value_counts()[True] / s2.shape[0] * 100).round(2),\n",
    "    (s2.isin(c2016_12).value_counts()[True] / s2.shape[0] * 100).round(2),\n",
    "    (s2.isin(c2017_1).value_counts()[True] / s2.shape[0] * 100).round(2),\n",
    "    (s2.isin(c2017_2).value_counts()[True] / s2.shape[0] * 100).round(2),\n",
    "    (s2.isin(c2017_3).value_counts()[True] / s2.shape[0] * 100).round(2),\n",
    "    (s2.isin(c2017_4).value_counts()[True] / s2.shape[0] * 100).round(2),\n",
    "    (s2.isin(c2017_5).value_counts()[True] / s2.shape[0] * 100).round(2)],\n",
    "\n",
    "    [(s3.isin(c2016_10).value_counts()[True] / s3.shape[0] * 100).round(2),\n",
    "    (s3.isin(c2016_11).value_counts()[True] / s3.shape[0] * 100).round(2),\n",
    "    (s3.isin(c2016_12).value_counts()[True] / s3.shape[0] * 100).round(2),\n",
    "    (s3.isin(c2017_1).value_counts()[True] / s3.shape[0] * 100).round(2),\n",
    "    (s3.isin(c2017_2).value_counts()[True] / s3.shape[0] * 100).round(2),\n",
    "    (s3.isin(c2017_3).value_counts()[True] / s3.shape[0] * 100).round(2),\n",
    "    (s3.isin(c2017_4).value_counts()[True] / s3.shape[0] * 100).round(2),\n",
    "    (s3.isin(c2017_5).value_counts()[True] / s3.shape[0] * 100).round(2)],\n",
    "\n",
    "    [(s4.isin(c2016_10).value_counts()[True] / s4.shape[0] * 100).round(2),\n",
    "    (s4.isin(c2016_11).value_counts()[True] / s4.shape[0] * 100).round(2),\n",
    "    (s4.isin(c2016_12).value_counts()[True] / s4.shape[0] * 100).round(2),\n",
    "    (s4.isin(c2017_1).value_counts()[True] / s4.shape[0] * 100).round(2),\n",
    "    (s4.isin(c2017_2).value_counts()[True] / s4.shape[0] * 100).round(2),\n",
    "    (s4.isin(c2017_3).value_counts()[True] / s4.shape[0] * 100).round(2),\n",
    "    (s4.isin(c2017_4).value_counts()[True] / s4.shape[0] * 100).round(2),\n",
    "    (s4.isin(c2017_5).value_counts()[True] / s4.shape[0] * 100).round(2)],\n",
    "\n",
    "    [(s5.isin(c2016_10).value_counts()[True] / s5.shape[0] * 100).round(2),\n",
    "    (s5.isin(c2016_11).value_counts()[True] / s5.shape[0] * 100).round(2),\n",
    "    (s5.isin(c2016_12).value_counts()[True] / s5.shape[0] * 100).round(2),\n",
    "    (s5.isin(c2017_1).value_counts()[True] / s5.shape[0] * 100).round(2),\n",
    "    (s5.isin(c2017_2).value_counts()[True] / s5.shape[0] * 100).round(2),\n",
    "    (s5.isin(c2017_3).value_counts()[True] / s5.shape[0] * 100).round(2),\n",
    "    (s5.isin(c2017_4).value_counts()[True] / s5.shape[0] * 100).round(2),\n",
    "    (s5.isin(c2017_5).value_counts()[True] / s5.shape[0] * 100).round(2)],\n",
    "\n",
    "    [(s9.isin(c2016_10).value_counts()[True] / s9.shape[0] * 100).round(2),\n",
    "    (s9.isin(c2016_11).value_counts()[True] / s9.shape[0] * 100).round(2),\n",
    "    (s9.isin(c2016_12).value_counts()[True] / s9.shape[0] * 100).round(2),\n",
    "    (s9.isin(c2017_1).value_counts()[True] / s9.shape[0] * 100).round(2),\n",
    "    (s9.isin(c2017_2).value_counts()[True] / s9.shape[0] * 100).round(2),\n",
    "    (s9.isin(c2017_3).value_counts()[True] / s9.shape[0] * 100).round(2),\n",
    "    (s9.isin(c2017_4).value_counts()[True] / s9.shape[0] * 100).round(2),\n",
    "    (s9.isin(c2017_5).value_counts()[True] / s9.shape[0] * 100).round(2)],\n",
    "\n",
    "    [(s10.isin(c2016_10).value_counts()[True] / s10.shape[0] * 100).round(2),\n",
    "    (s10.isin(c2016_11).value_counts()[True] / s10.shape[0] * 100).round(2),\n",
    "    (s10.isin(c2016_12).value_counts()[True] / s10.shape[0] * 100).round(2),\n",
    "    (s10.isin(c2017_1).value_counts()[True] / s10.shape[0] * 100).round(2),\n",
    "    (s10.isin(c2017_2).value_counts()[True] / s10.shape[0] * 100).round(2),\n",
    "    (s10.isin(c2017_3).value_counts()[True] / s10.shape[0] * 100).round(2),\n",
    "    (s10.isin(c2017_4).value_counts()[True] / s10.shape[0] * 100).round(2),\n",
    "    (s10.isin(c2017_5).value_counts()[True] / s10.shape[0] * 100).round(2)]\n",
    "],\n",
    "columns=['2016_10m', '2016_11m', '2016_12m', '2017_1m', '2017_2m', '2017_3m', '2017_4m', '2017_5m'],\n",
    "index=['source 1', 'source_2', 'source_3', 'source_4', 'source_5', 'source_9', 'source_10',]);\n",
    "renetion_m10_2016"
   ]
  },
  {
   "cell_type": "code",
   "execution_count": 58,
   "metadata": {},
   "outputs": [
    {
     "data": {
      "image/png": "[encoded data removed]",
      "text/plain": [
       "<matplotlib.figure.Figure at 0x1a1032c828>"
      ]
     },
     "metadata": {},
     "output_type": "display_data"
    }
   ],
   "source": [
    "renetion_m10_2016.T.plot();"
   ]
  },
  {
   "cell_type": "markdown",
   "metadata": {},
   "source": [
    "#### 2. Эффективность каналов с точки зрения покупок пользователей"
   ]
  },
  {
   "cell_type": "markdown",
   "metadata": {},
   "source": [
    "Как правило, корректная оценка эффективности маркетинговых каналов полностью зависит от атрибуции. Выбор атрибуции, в свою очередь, зависит от особенностей бизнеса. Главным образом, вопрос состоит в том, как корректно распределить доход по источникам в зависимости от вклада каждого источника в конверсию, так как пользователь мог взаимодействовать с разными источниками до конверсии.\n",
    "\n",
    "Чтобы наглядно продемонстрировать абзац выше, посмотрим, с каким количеством уникальных источников пользователи взаимодействовали. Иными словами, построим таблицу, которая отражает количество уникальных источников на пользователя."
   ]
  },
  {
   "cell_type": "code",
   "execution_count": 59,
   "metadata": {},
   "outputs": [
    {
     "data": {
      "text/plain": [
       "1    77.801805\n",
       "2    15.426930\n",
       "3     4.692453\n",
       "4     1.531354\n",
       "5     0.446963\n",
       "6     0.092076\n",
       "7     0.008418\n",
       "Name: source_id_count, dtype: float64"
      ]
     },
     "execution_count": 59,
     "metadata": {},
     "output_type": "execute_result"
    }
   ],
   "source": [
    "df.groupby('uid')[['source_id']].nunique().reset_index().rename(index=str, columns={'source_id': 'source_id_count'})\\\n",
    "    ['source_id_count'].value_counts(normalize=True) * 100"
   ]
  },
  {
   "cell_type": "markdown",
   "metadata": {},
   "source": [
    "Видим, что только 77% процентов всех пользователей за весь период взаимодействовали только с одним источником. Таким образом, если выбрать атрибуцию последнего перехода, то мы некорректно оценим 33% оставшихся переходов. А они тоже могли внести и, скорее всего, внесли свой вклад в конверсии.\n",
    "\n",
    "Например, очевидно, что пользователь мог перейти по источнику 1 и зарегистрироваться, а на следующий день перейти по источнику 2 и совершить покупку. Вопрос в том, какую долю от дохода в этом случае отдать источнику 1, а какую - источнику 2.\n",
    "\n",
    "Здесь на помощь могут прийти воронки. В зависимости от ценности шага воронки мы можем распределить ценность по источникам. Например, 30% - регистрация, 70% - оплата.\n",
    "\n",
    "Однако для этого недостаточно данных. Мы могли бы распределить ценность от конверсии поровну между всеми источниками, но это тоже некорректный подход (нельзя одинаково оценивать регистрацию и оплату)."
   ]
  },
  {
   "cell_type": "markdown",
   "metadata": {},
   "source": [
    "Принимая во внимание вышеописанное, возьмем следующие метрики для оценки эффективности источников:\n",
    "\t\n",
    "**MRR по источникам** (позволит оценить эффективность источников по доходу с точки зрения привлечения платящих пользователей, с поправкой на 77 процентов)<br>\n",
    "\n",
    "**доля первых визитов, сразу завершившихся конверсией, в общей доле первых визитов по источникам** (позволит оценить, какие источники приводят наиболее расположенных к конверсии пользователей)<br>\n",
    "\n",
    "**ARPPU по источникам по первому переходу** (позволит оценить ср. чек по первому источнику, опять-таки с поправкой на 77%)<br>\n",
    "\n",
    "**CR(u)** (позволит оценить, какой процент перешедших пользователей становятся платящими пользователями в разрезе канала привлечения)\n",
    "\n",
    "**Retention платящих пользователей** (позволит оценить, какой канал лучше привлекает многомесячных плательщиков)"
   ]
  },
  {
   "cell_type": "markdown",
   "metadata": {},
   "source": [
    "<hr>"
   ]
  },
  {
   "cell_type": "markdown",
   "metadata": {},
   "source": [
    "Для того, чтобы данные были актуальны, возьмем только 2017 год."
   ]
  },
  {
   "cell_type": "code",
   "execution_count": 60,
   "metadata": {},
   "outputs": [
    {
     "data": {
      "text/plain": [
       "1    81.302267\n",
       "2    13.835543\n",
       "3     3.606493\n",
       "4     0.951648\n",
       "5     0.256233\n",
       "6     0.045737\n",
       "7     0.002079\n",
       "Name: source_id_count, dtype: float64"
      ]
     },
     "execution_count": 60,
     "metadata": {},
     "output_type": "execute_result"
    }
   ],
   "source": [
    "df[df['year'] == 2017].groupby('uid')[['source_id']].nunique().reset_index().rename(index=str, columns={'source_id': 'source_id_count'})\\\n",
    "    ['source_id_count'].value_counts(normalize=True) * 100"
   ]
  },
  {
   "cell_type": "markdown",
   "metadata": {},
   "source": [
    "Видим, что в 2017 году процент, тех, кто пользовался одним источника выше. Это несколько повышает точность оценки. Если же взять в расчет только сессии с конверсиями, то показатель достигает 91.5%"
   ]
  },
  {
   "cell_type": "code",
   "execution_count": 61,
   "metadata": {},
   "outputs": [
    {
     "data": {
      "text/plain": [
       "1    91.672805\n",
       "2     7.261097\n",
       "3     0.841248\n",
       "4     0.166699\n",
       "5     0.054274\n",
       "6     0.003877\n",
       "Name: source_id_count, dtype: float64"
      ]
     },
     "execution_count": 61,
     "metadata": {},
     "output_type": "execute_result"
    }
   ],
   "source": [
    "df[(df['year'] == 2017) & (df['is_conversion'] == 1)].groupby('uid')[['source_id']].nunique().reset_index().rename(index=str, columns={'source_id': 'source_id_count'})\\\n",
    "    ['source_id_count'].value_counts(normalize=True) * 100"
   ]
  },
  {
   "cell_type": "code",
   "execution_count": 62,
   "metadata": {},
   "outputs": [
    {
     "data": {
      "text/html": [
       "<div>\n",
       "<style scoped>\n",
       "    .dataframe tbody tr th:only-of-type {\n",
       "        vertical-align: middle;\n",
       "    }\n",
       "\n",
       "    .dataframe tbody tr th {\n",
       "        vertical-align: top;\n",
       "    }\n",
       "\n",
       "    .dataframe thead tr th {\n",
       "        text-align: left;\n",
       "    }\n",
       "\n",
       "    .dataframe thead tr:last-of-type th {\n",
       "        text-align: right;\n",
       "    }\n",
       "</style>\n",
       "<table border=\"1\" class=\"dataframe\">\n",
       "  <thead>\n",
       "    <tr>\n",
       "      <th></th>\n",
       "      <th colspan=\"3\" halign=\"left\">revenue_distributed</th>\n",
       "    </tr>\n",
       "    <tr>\n",
       "      <th></th>\n",
       "      <th>count</th>\n",
       "      <th>sum</th>\n",
       "      <th>median</th>\n",
       "    </tr>\n",
       "    <tr>\n",
       "      <th>source_id</th>\n",
       "      <th></th>\n",
       "      <th></th>\n",
       "      <th></th>\n",
       "    </tr>\n",
       "  </thead>\n",
       "  <tbody>\n",
       "    <tr>\n",
       "      <th>1</th>\n",
       "      <td>5140</td>\n",
       "      <td>30772.8508</td>\n",
       "      <td>2.75</td>\n",
       "    </tr>\n",
       "    <tr>\n",
       "      <th>2</th>\n",
       "      <td>4796</td>\n",
       "      <td>34213.3336</td>\n",
       "      <td>2.75</td>\n",
       "    </tr>\n",
       "    <tr>\n",
       "      <th>3</th>\n",
       "      <td>6750</td>\n",
       "      <td>25610.9942</td>\n",
       "      <td>2.44</td>\n",
       "    </tr>\n",
       "    <tr>\n",
       "      <th>4</th>\n",
       "      <td>8138</td>\n",
       "      <td>32443.9668</td>\n",
       "      <td>2.44</td>\n",
       "    </tr>\n",
       "    <tr>\n",
       "      <th>5</th>\n",
       "      <td>7116</td>\n",
       "      <td>30463.6498</td>\n",
       "      <td>2.68</td>\n",
       "    </tr>\n",
       "    <tr>\n",
       "      <th>9</th>\n",
       "      <td>862</td>\n",
       "      <td>2708.5150</td>\n",
       "      <td>1.83</td>\n",
       "    </tr>\n",
       "    <tr>\n",
       "      <th>10</th>\n",
       "      <td>1062</td>\n",
       "      <td>2869.4200</td>\n",
       "      <td>1.83</td>\n",
       "    </tr>\n",
       "  </tbody>\n",
       "</table>\n",
       "</div>"
      ],
      "text/plain": [
       "          revenue_distributed                   \n",
       "                        count         sum median\n",
       "source_id                                       \n",
       "1                        5140  30772.8508   2.75\n",
       "2                        4796  34213.3336   2.75\n",
       "3                        6750  25610.9942   2.44\n",
       "4                        8138  32443.9668   2.44\n",
       "5                        7116  30463.6498   2.68\n",
       "9                         862   2708.5150   1.83\n",
       "10                       1062   2869.4200   1.83"
      ]
     },
     "execution_count": 62,
     "metadata": {},
     "output_type": "execute_result"
    }
   ],
   "source": [
    "df[(df['year'] == 2017) & (df['is_conversion'] == 1)].groupby('source_id')[['revenue_distributed']].agg(['count','sum','median'])"
   ]
  },
  {
   "cell_type": "markdown",
   "metadata": {},
   "source": [
    "Найдем сессии тех пользователей, которые пришли в 2017 году."
   ]
  },
  {
   "cell_type": "code",
   "execution_count": 63,
   "metadata": {
    "collapsed": true
   },
   "outputs": [],
   "source": [
    "df_new_users_2017 = df[\n",
    "    df['year'] == 2017][df[df['year'] == 2017]['uid'].isin(\n",
    "        df[(df['is_1st_interaction'] == 1) & (df['year'] == 2017)]['uid']\n",
    "    )\n",
    "]"
   ]
  },
  {
   "cell_type": "code",
   "execution_count": 64,
   "metadata": {},
   "outputs": [
    {
     "data": {
      "text/plain": [
       "1    84.570238\n",
       "2    12.045321\n",
       "3     2.643318\n",
       "4     0.595830\n",
       "5     0.125538\n",
       "6     0.019118\n",
       "7     0.000637\n",
       "Name: source_id_count, dtype: float64"
      ]
     },
     "execution_count": 64,
     "metadata": {},
     "output_type": "execute_result"
    }
   ],
   "source": [
    "df_new_users_2017.groupby('uid')[['source_id']].nunique().reset_index().rename(index=str, columns={'source_id': 'source_id_count'})\\\n",
    "    ['source_id_count'].value_counts(normalize=True) * 100"
   ]
  },
  {
   "cell_type": "markdown",
   "metadata": {},
   "source": [
    "Отмечаем, что 84.5% из них взаимодейстовавали только с одним источником."
   ]
  },
  {
   "cell_type": "markdown",
   "metadata": {},
   "source": [
    "### MRR и ARPPU по первому источнику"
   ]
  },
  {
   "cell_type": "markdown",
   "metadata": {},
   "source": [
    "Рассчитаем доход и ср. чек по первым источникам по новым привлеченным пользователям в 2017 году во общем и ежемесячно"
   ]
  },
  {
   "cell_type": "code",
   "execution_count": 65,
   "metadata": {
    "collapsed": true
   },
   "outputs": [],
   "source": [
    "fir_inter['year'] = fir_inter['start_ts'].apply(lambda x: x.year)\n",
    "fir_inter2017 = fir_inter[fir_inter['year'] == 2017]"
   ]
  },
  {
   "cell_type": "code",
   "execution_count": 66,
   "metadata": {
    "collapsed": true
   },
   "outputs": [],
   "source": [
    "gr_overall = df_new_users_2017.groupby('uid')[['revenue_distributed']].sum().reset_index().join(\n",
    "    fir_inter2017[['uid', 'source_id']].set_index('uid'), on='uid'\n",
    ").rename(index=str, columns={'source_id':'1st_source_id'})\n",
    "\n",
    "gr_overall = gr_overall[gr_overall['revenue_distributed'] != 0]\n",
    "\n",
    "gr_overall = gr_overall.groupby('1st_source_id')[['revenue_distributed']].agg(['sum', 'median'])"
   ]
  },
  {
   "cell_type": "code",
   "execution_count": 67,
   "metadata": {
    "collapsed": true
   },
   "outputs": [],
   "source": [
    "gr_overall.columns = gr_overall.columns.map('_'.join)"
   ]
  },
  {
   "cell_type": "code",
   "execution_count": 68,
   "metadata": {},
   "outputs": [
    {
     "data": {
      "text/html": [
       "<div>\n",
       "<style scoped>\n",
       "    .dataframe tbody tr th:only-of-type {\n",
       "        vertical-align: middle;\n",
       "    }\n",
       "\n",
       "    .dataframe tbody tr th {\n",
       "        vertical-align: top;\n",
       "    }\n",
       "\n",
       "    .dataframe thead th {\n",
       "        text-align: right;\n",
       "    }\n",
       "</style>\n",
       "<table border=\"1\" class=\"dataframe\">\n",
       "  <thead>\n",
       "    <tr style=\"text-align: right;\">\n",
       "      <th></th>\n",
       "      <th>revenue_distributed_sum</th>\n",
       "      <th>revenue_distributed_median</th>\n",
       "    </tr>\n",
       "    <tr>\n",
       "      <th>1st_source_id</th>\n",
       "      <th></th>\n",
       "      <th></th>\n",
       "    </tr>\n",
       "  </thead>\n",
       "  <tbody>\n",
       "    <tr>\n",
       "      <th>1</th>\n",
       "      <td>5558.8900</td>\n",
       "      <td>2.93</td>\n",
       "    </tr>\n",
       "    <tr>\n",
       "      <th>2</th>\n",
       "      <td>11251.6802</td>\n",
       "      <td>3.27</td>\n",
       "    </tr>\n",
       "    <tr>\n",
       "      <th>3</th>\n",
       "      <td>28066.5601</td>\n",
       "      <td>2.44</td>\n",
       "    </tr>\n",
       "    <tr>\n",
       "      <th>4</th>\n",
       "      <td>27928.2200</td>\n",
       "      <td>2.93</td>\n",
       "    </tr>\n",
       "    <tr>\n",
       "      <th>5</th>\n",
       "      <td>14270.5500</td>\n",
       "      <td>2.75</td>\n",
       "    </tr>\n",
       "    <tr>\n",
       "      <th>9</th>\n",
       "      <td>1149.1700</td>\n",
       "      <td>2.17</td>\n",
       "    </tr>\n",
       "    <tr>\n",
       "      <th>10</th>\n",
       "      <td>2823.0600</td>\n",
       "      <td>1.95</td>\n",
       "    </tr>\n",
       "  </tbody>\n",
       "</table>\n",
       "</div>"
      ],
      "text/plain": [
       "               revenue_distributed_sum  revenue_distributed_median\n",
       "1st_source_id                                                     \n",
       "1                            5558.8900                        2.93\n",
       "2                           11251.6802                        3.27\n",
       "3                           28066.5601                        2.44\n",
       "4                           27928.2200                        2.93\n",
       "5                           14270.5500                        2.75\n",
       "9                            1149.1700                        2.17\n",
       "10                           2823.0600                        1.95"
      ]
     },
     "execution_count": 68,
     "metadata": {},
     "output_type": "execute_result"
    }
   ],
   "source": [
    "gr_overall"
   ]
  },
  {
   "cell_type": "code",
   "execution_count": 69,
   "metadata": {},
   "outputs": [
    {
     "data": {
      "image/png": "[encoded data removed]",
      "text/plain": [
       "<matplotlib.figure.Figure at 0x1a19377a20>"
      ]
     },
     "metadata": {},
     "output_type": "display_data"
    }
   ],
   "source": [
    "gr_overall['revenue_distributed_sum'].plot(kind='bar');"
   ]
  },
  {
   "cell_type": "code",
   "execution_count": 70,
   "metadata": {},
   "outputs": [
    {
     "data": {
      "image/png": "[encoded data removed]",
      "text/plain": [
       "<matplotlib.figure.Figure at 0x1a2349b6a0>"
      ]
     },
     "metadata": {},
     "output_type": "display_data"
    }
   ],
   "source": [
    "gr_overall['revenue_distributed_median'].plot(kind='bar');"
   ]
  },
  {
   "cell_type": "code",
   "execution_count": 71,
   "metadata": {
    "collapsed": true
   },
   "outputs": [],
   "source": [
    "gr_months = df_new_users_2017.groupby(['uid', 'month'])[['revenue_distributed']].sum().reset_index().join(\n",
    "    fir_inter2017[['uid', 'source_id']].set_index('uid'), on='uid'\n",
    ").rename(index=str, columns={'source_id':'1st_source_id'})"
   ]
  },
  {
   "cell_type": "code",
   "execution_count": 72,
   "metadata": {
    "collapsed": true
   },
   "outputs": [],
   "source": [
    "gr_months = gr_months[gr_months['revenue_distributed'] != 0]"
   ]
  },
  {
   "cell_type": "code",
   "execution_count": 73,
   "metadata": {
    "collapsed": true
   },
   "outputs": [],
   "source": [
    "one = gr_months[gr_months['month'] == 1].groupby('1st_source_id')[['revenue_distributed']].agg(['sum', 'median'])\n",
    "two = gr_months[gr_months['month'] == 2].groupby('1st_source_id')[['revenue_distributed']].agg(['sum', 'median'])\n",
    "three = gr_months[gr_months['month'] == 3].groupby('1st_source_id')[['revenue_distributed']].agg(['sum', 'median'])\n",
    "four = gr_months[gr_months['month'] == 4].groupby('1st_source_id')[['revenue_distributed']].agg(['sum', 'median'])\n",
    "five = gr_months[gr_months['month'] == 5].groupby('1st_source_id')[['revenue_distributed']].agg(['sum', 'median'])"
   ]
  },
  {
   "cell_type": "code",
   "execution_count": 74,
   "metadata": {},
   "outputs": [
    {
     "data": {
      "text/plain": [
       "(              revenue_distributed       \n",
       "                               sum median\n",
       " 1st_source_id                           \n",
       " 1                          667.16   2.44\n",
       " 2                         1262.12   2.99\n",
       " 3                         5234.53   2.75\n",
       " 4                         5140.03   2.57\n",
       " 5                         2774.46   2.44\n",
       " 9                          156.92   1.80\n",
       " 10                         386.93   2.14,\n",
       "               revenue_distributed       \n",
       "                               sum median\n",
       " 1st_source_id                           \n",
       " 1                       1122.9900   3.05\n",
       " 2                       1775.2600   2.92\n",
       " 3                       5762.9801   2.44\n",
       " 4                       6216.9600   2.75\n",
       " 5                       3860.7100   3.05\n",
       " 9                        290.1300   2.50\n",
       " 10                       461.9000   1.83,\n",
       "               revenue_distributed       \n",
       "                               sum median\n",
       " 1st_source_id                           \n",
       " 1                         1816.54  2.750\n",
       " 2                         2234.64  3.050\n",
       " 3                         6027.27  2.750\n",
       " 4                         6808.46  2.930\n",
       " 5                         2573.10  2.925\n",
       " 9                          389.69  1.880\n",
       " 10                         873.91  2.140,\n",
       "               revenue_distributed       \n",
       "                               sum median\n",
       " 1st_source_id                           \n",
       " 1                          856.13   2.99\n",
       " 2                         1489.28   2.78\n",
       " 3                         4364.38   2.44\n",
       " 4                         4702.69   3.05\n",
       " 5                         2241.68   2.44\n",
       " 9                          163.01   2.44\n",
       " 10                         388.98   1.50,\n",
       "               revenue_distributed       \n",
       "                               sum median\n",
       " 1st_source_id                           \n",
       " 1                       1096.0700   2.94\n",
       " 2                       4490.3802   3.67\n",
       " 3                       6677.4000   1.83\n",
       " 4                       5060.0800   2.84\n",
       " 5                       2820.6000   2.44\n",
       " 9                        149.4200   1.83\n",
       " 10                       711.3400   1.95)"
      ]
     },
     "execution_count": 74,
     "metadata": {},
     "output_type": "execute_result"
    }
   ],
   "source": [
    "one, two, three, four, five"
   ]
  },
  {
   "cell_type": "markdown",
   "metadata": {},
   "source": [
    "## доля первых визитов, сразу завершившихся конверсией, в общей доле первых визитов по источникам"
   ]
  },
  {
   "cell_type": "code",
   "execution_count": 75,
   "metadata": {
    "collapsed": true
   },
   "outputs": [],
   "source": [
    "cr_sessions = df_new_users_2017[(df_new_users_2017['is_conversion'] == 1) & (df_new_users_2017['is_1st_interaction'] == 1)]\\\n",
    "    .groupby('source_id')[['session_id']].count().rename(index=str, columns={'session_id': 'cr_sessions'})"
   ]
  },
  {
   "cell_type": "code",
   "execution_count": 76,
   "metadata": {
    "collapsed": true
   },
   "outputs": [],
   "source": [
    "all_sessions = df_new_users_2017[(df_new_users_2017['is_1st_interaction'] == 1)].groupby('source_id')[['session_id']].count().rename(index=str, columns={'session_id': 'all_sessions'})"
   ]
  },
  {
   "cell_type": "code",
   "execution_count": 77,
   "metadata": {
    "collapsed": true
   },
   "outputs": [],
   "source": [
    "result = cr_sessions.join(all_sessions, on='source_id')"
   ]
  },
  {
   "cell_type": "code",
   "execution_count": 78,
   "metadata": {
    "collapsed": true
   },
   "outputs": [],
   "source": [
    "result['target'] = (result['cr_sessions'] / result['all_sessions'] * 100).round(2)"
   ]
  },
  {
   "cell_type": "code",
   "execution_count": 79,
   "metadata": {},
   "outputs": [
    {
     "data": {
      "text/html": [
       "<div>\n",
       "<style scoped>\n",
       "    .dataframe tbody tr th:only-of-type {\n",
       "        vertical-align: middle;\n",
       "    }\n",
       "\n",
       "    .dataframe tbody tr th {\n",
       "        vertical-align: top;\n",
       "    }\n",
       "\n",
       "    .dataframe thead th {\n",
       "        text-align: right;\n",
       "    }\n",
       "</style>\n",
       "<table border=\"1\" class=\"dataframe\">\n",
       "  <thead>\n",
       "    <tr style=\"text-align: right;\">\n",
       "      <th></th>\n",
       "      <th>cr_sessions</th>\n",
       "      <th>all_sessions</th>\n",
       "      <th>target</th>\n",
       "    </tr>\n",
       "    <tr>\n",
       "      <th>source_id</th>\n",
       "      <th></th>\n",
       "      <th></th>\n",
       "      <th></th>\n",
       "    </tr>\n",
       "  </thead>\n",
       "  <tbody>\n",
       "    <tr>\n",
       "      <th>1</th>\n",
       "      <td>730</td>\n",
       "      <td>3848</td>\n",
       "      <td>18.97</td>\n",
       "    </tr>\n",
       "    <tr>\n",
       "      <th>2</th>\n",
       "      <td>986</td>\n",
       "      <td>10096</td>\n",
       "      <td>9.77</td>\n",
       "    </tr>\n",
       "    <tr>\n",
       "      <th>3</th>\n",
       "      <td>3921</td>\n",
       "      <td>46728</td>\n",
       "      <td>8.39</td>\n",
       "    </tr>\n",
       "    <tr>\n",
       "      <th>4</th>\n",
       "      <td>4118</td>\n",
       "      <td>54846</td>\n",
       "      <td>7.51</td>\n",
       "    </tr>\n",
       "    <tr>\n",
       "      <th>5</th>\n",
       "      <td>1993</td>\n",
       "      <td>32317</td>\n",
       "      <td>6.17</td>\n",
       "    </tr>\n",
       "    <tr>\n",
       "      <th>9</th>\n",
       "      <td>181</td>\n",
       "      <td>2996</td>\n",
       "      <td>6.04</td>\n",
       "    </tr>\n",
       "    <tr>\n",
       "      <th>10</th>\n",
       "      <td>600</td>\n",
       "      <td>6073</td>\n",
       "      <td>9.88</td>\n",
       "    </tr>\n",
       "  </tbody>\n",
       "</table>\n",
       "</div>"
      ],
      "text/plain": [
       "           cr_sessions  all_sessions  target\n",
       "source_id                                   \n",
       "1                  730          3848   18.97\n",
       "2                  986         10096    9.77\n",
       "3                 3921         46728    8.39\n",
       "4                 4118         54846    7.51\n",
       "5                 1993         32317    6.17\n",
       "9                  181          2996    6.04\n",
       "10                 600          6073    9.88"
      ]
     },
     "execution_count": 79,
     "metadata": {},
     "output_type": "execute_result"
    }
   ],
   "source": [
    "result"
   ]
  },
  {
   "cell_type": "code",
   "execution_count": 80,
   "metadata": {},
   "outputs": [
    {
     "data": {
      "image/png": "[encoded data removed]",
      "text/plain": [
       "<matplotlib.figure.Figure at 0x1a26057860>"
      ]
     },
     "metadata": {},
     "output_type": "display_data"
    }
   ],
   "source": [
    "result['target'].plot(kind='bar');"
   ]
  },
  {
   "cell_type": "markdown",
   "metadata": {},
   "source": [
    "## CR(u)"
   ]
  },
  {
   "cell_type": "code",
   "execution_count": 81,
   "metadata": {
    "collapsed": true
   },
   "outputs": [],
   "source": [
    "converters = df_new_users_2017[df_new_users_2017['is_conversion'] == 1].groupby('source_id')[['uid']].nunique()\\\n",
    "    .rename(index=str, columns={'uid': 'converters'})"
   ]
  },
  {
   "cell_type": "code",
   "execution_count": 82,
   "metadata": {
    "collapsed": true
   },
   "outputs": [],
   "source": [
    "allusers = df_new_users_2017.groupby('source_id')[['uid']].nunique().rename(index=str, columns={'uid': 'allusers'})"
   ]
  },
  {
   "cell_type": "code",
   "execution_count": 83,
   "metadata": {
    "collapsed": true
   },
   "outputs": [],
   "source": [
    "result = converters.join(allusers, on='source_id')"
   ]
  },
  {
   "cell_type": "code",
   "execution_count": 84,
   "metadata": {
    "collapsed": true
   },
   "outputs": [],
   "source": [
    "result['target'] = (result['converters'] / result['allusers'] * 100).round(2)"
   ]
  },
  {
   "cell_type": "code",
   "execution_count": 85,
   "metadata": {},
   "outputs": [
    {
     "data": {
      "text/html": [
       "<div>\n",
       "<style scoped>\n",
       "    .dataframe tbody tr th:only-of-type {\n",
       "        vertical-align: middle;\n",
       "    }\n",
       "\n",
       "    .dataframe tbody tr th {\n",
       "        vertical-align: top;\n",
       "    }\n",
       "\n",
       "    .dataframe thead th {\n",
       "        text-align: right;\n",
       "    }\n",
       "</style>\n",
       "<table border=\"1\" class=\"dataframe\">\n",
       "  <thead>\n",
       "    <tr style=\"text-align: right;\">\n",
       "      <th></th>\n",
       "      <th>target</th>\n",
       "    </tr>\n",
       "    <tr>\n",
       "      <th>source_id</th>\n",
       "      <th></th>\n",
       "    </tr>\n",
       "  </thead>\n",
       "  <tbody>\n",
       "    <tr>\n",
       "      <th>1</th>\n",
       "      <td>24.09</td>\n",
       "    </tr>\n",
       "    <tr>\n",
       "      <th>2</th>\n",
       "      <td>14.56</td>\n",
       "    </tr>\n",
       "    <tr>\n",
       "      <th>3</th>\n",
       "      <td>9.93</td>\n",
       "    </tr>\n",
       "    <tr>\n",
       "      <th>4</th>\n",
       "      <td>9.36</td>\n",
       "    </tr>\n",
       "    <tr>\n",
       "      <th>5</th>\n",
       "      <td>10.91</td>\n",
       "    </tr>\n",
       "    <tr>\n",
       "      <th>9</th>\n",
       "      <td>8.60</td>\n",
       "    </tr>\n",
       "    <tr>\n",
       "      <th>10</th>\n",
       "      <td>12.31</td>\n",
       "    </tr>\n",
       "  </tbody>\n",
       "</table>\n",
       "</div>"
      ],
      "text/plain": [
       "           target\n",
       "source_id        \n",
       "1           24.09\n",
       "2           14.56\n",
       "3            9.93\n",
       "4            9.36\n",
       "5           10.91\n",
       "9            8.60\n",
       "10          12.31"
      ]
     },
     "execution_count": 85,
     "metadata": {},
     "output_type": "execute_result"
    }
   ],
   "source": [
    "result[['target']]"
   ]
  },
  {
   "cell_type": "code",
   "execution_count": 86,
   "metadata": {},
   "outputs": [
    {
     "data": {
      "image/png": "[encoded data removed]",
      "text/plain": [
       "<matplotlib.figure.Figure at 0x1a26058a58>"
      ]
     },
     "metadata": {},
     "output_type": "display_data"
    }
   ],
   "source": [
    "result['target'].plot(kind='bar');"
   ]
  },
  {
   "cell_type": "markdown",
   "metadata": {},
   "source": [
    "## RETENTION for paying users"
   ]
  },
  {
   "cell_type": "markdown",
   "metadata": {},
   "source": [
    "Посмотрим на удержание новых платящих пользователей с разбивкой по первому источнику"
   ]
  },
  {
   "cell_type": "code",
   "execution_count": 87,
   "metadata": {
    "collapsed": true,
    "scrolled": false
   },
   "outputs": [],
   "source": [
    "# когорты новых пользователей\n",
    "\n",
    "new_2017_1 = df_new_users_2017[\n",
    "    (df_new_users_2017['is_1st_interaction'] == 1) &\n",
    "    (df_new_users_2017['year_month'] == '2017_1')\n",
    "]\n",
    "\n",
    "new_2017_2 = df_new_users_2017[\n",
    "    (df_new_users_2017['is_1st_interaction'] == 1) &\n",
    "    (df_new_users_2017['year_month'] == '2017_2')\n",
    "]\n",
    "\n",
    "new_2017_3 = df_new_users_2017[\n",
    "    (df_new_users_2017['is_1st_interaction'] == 1) &\n",
    "    (df_new_users_2017['year_month'] == '2017_3')\n",
    "]\n",
    "\n",
    "new_2017_4 = df_new_users_2017[\n",
    "    (df_new_users_2017['is_1st_interaction'] == 1) &\n",
    "    (df_new_users_2017['year_month'] == '2017_4')\n",
    "]\n",
    "\n",
    "new_2017_5 = df_new_users_2017[\n",
    "    (df_new_users_2017['is_1st_interaction'] == 1) &\n",
    "    (df_new_users_2017['year_month'] == '2017_5')\n",
    "]\n",
    "\n",
    "# когорты платящих пользователей\n",
    "\n",
    "paying_2017_1 = df_new_users_2017[\n",
    "    (df_new_users_2017['is_conversion'] == 1) &\n",
    "    (df_new_users_2017['year_month'] == '2017_1')\n",
    "]\n",
    "\n",
    "paying_2017_2 = df_new_users_2017[\n",
    "    (df_new_users_2017['is_conversion'] == 1) &\n",
    "    (df_new_users_2017['year_month'] == '2017_2')\n",
    "]\n",
    "\n",
    "paying_2017_3 = df_new_users_2017[\n",
    "    (df_new_users_2017['is_conversion'] == 1) &\n",
    "    (df_new_users_2017['year_month'] == '2017_3')\n",
    "]\n",
    "\n",
    "paying_2017_4 = df_new_users_2017[\n",
    "    (df_new_users_2017['is_conversion'] == 1) &\n",
    "    (df_new_users_2017['year_month'] == '2017_4')\n",
    "]\n",
    "\n",
    "paying_2017_5 = df_new_users_2017[\n",
    "    (df_new_users_2017['is_conversion'] == 1) &\n",
    "    (df_new_users_2017['year_month'] == '2017_5')\n",
    "]"
   ]
  },
  {
   "cell_type": "code",
   "execution_count": 88,
   "metadata": {
    "collapsed": true
   },
   "outputs": [],
   "source": [
    "# когорты новых платящих пользователей\n",
    "\n",
    "new_2017_1_paying = new_2017_1[new_2017_1['uid'].isin(paying_2017_1['uid'])]\n",
    "new_2017_2_paying = new_2017_2[new_2017_2['uid'].isin(paying_2017_2['uid'])]\n",
    "new_2017_3_paying = new_2017_3[new_2017_3['uid'].isin(paying_2017_3['uid'])]\n",
    "new_2017_4_paying = new_2017_4[new_2017_4['uid'].isin(paying_2017_4['uid'])]"
   ]
  },
  {
   "cell_type": "code",
   "execution_count": 89,
   "metadata": {
    "collapsed": true
   },
   "outputs": [],
   "source": [
    "# разобъем когорты новых платящих пользователей по первому источнику перехода\n",
    "\n",
    "new_2017_1_paying_source1 = new_2017_1_paying[new_2017_1_paying['source_id'] == 1]\n",
    "new_2017_2_paying_source1 = new_2017_2_paying[new_2017_2_paying['source_id'] == 1]\n",
    "new_2017_3_paying_source1 = new_2017_3_paying[new_2017_3_paying['source_id'] == 1]\n",
    "new_2017_4_paying_source1 = new_2017_4_paying[new_2017_4_paying['source_id'] == 1]\n",
    "\n",
    "new_2017_1_paying_source2 = new_2017_1_paying[new_2017_1_paying['source_id'] == 2]\n",
    "new_2017_2_paying_source2 = new_2017_2_paying[new_2017_2_paying['source_id'] == 2]\n",
    "new_2017_3_paying_source2 = new_2017_3_paying[new_2017_3_paying['source_id'] == 2]\n",
    "new_2017_4_paying_source2 = new_2017_4_paying[new_2017_4_paying['source_id'] == 2]\n",
    "\n",
    "new_2017_1_paying_source3 = new_2017_1_paying[new_2017_1_paying['source_id'] == 3]\n",
    "new_2017_2_paying_source3 = new_2017_2_paying[new_2017_2_paying['source_id'] == 3]\n",
    "new_2017_3_paying_source3 = new_2017_3_paying[new_2017_3_paying['source_id'] == 3]\n",
    "new_2017_4_paying_source3 = new_2017_4_paying[new_2017_4_paying['source_id'] == 3]\n",
    "\n",
    "new_2017_1_paying_source4 = new_2017_1_paying[new_2017_1_paying['source_id'] == 4]\n",
    "new_2017_2_paying_source4 = new_2017_2_paying[new_2017_2_paying['source_id'] == 4]\n",
    "new_2017_3_paying_source4 = new_2017_3_paying[new_2017_3_paying['source_id'] == 4]\n",
    "new_2017_4_paying_source4 = new_2017_4_paying[new_2017_4_paying['source_id'] == 4]\n",
    "\n",
    "new_2017_1_paying_source5 = new_2017_1_paying[new_2017_1_paying['source_id'] == 5]\n",
    "new_2017_2_paying_source5 = new_2017_2_paying[new_2017_2_paying['source_id'] == 5]\n",
    "new_2017_3_paying_source5 = new_2017_3_paying[new_2017_3_paying['source_id'] == 5]\n",
    "new_2017_4_paying_source5 = new_2017_4_paying[new_2017_4_paying['source_id'] == 5]\n",
    "\n",
    "new_2017_1_paying_source9 = new_2017_1_paying[new_2017_1_paying['source_id'] == 9]\n",
    "new_2017_2_paying_source9 = new_2017_2_paying[new_2017_2_paying['source_id'] == 9]\n",
    "new_2017_3_paying_source9 = new_2017_3_paying[new_2017_3_paying['source_id'] == 9]\n",
    "new_2017_4_paying_source9 = new_2017_4_paying[new_2017_4_paying['source_id'] == 9]\n",
    "\n",
    "new_2017_1_paying_source10 = new_2017_1_paying[new_2017_1_paying['source_id'] == 10]\n",
    "new_2017_2_paying_source10 = new_2017_2_paying[new_2017_2_paying['source_id'] == 10]\n",
    "new_2017_3_paying_source10 = new_2017_3_paying[new_2017_3_paying['source_id'] == 10]\n",
    "new_2017_4_paying_source10 = new_2017_4_paying[new_2017_4_paying['source_id'] == 10]"
   ]
  },
  {
   "cell_type": "markdown",
   "metadata": {},
   "source": [
    "Посмотрим на retention по источникам"
   ]
  },
  {
   "cell_type": "code",
   "execution_count": 90,
   "metadata": {},
   "outputs": [
    {
     "data": {
      "text/html": [
       "<div>\n",
       "<style scoped>\n",
       "    .dataframe tbody tr th:only-of-type {\n",
       "        vertical-align: middle;\n",
       "    }\n",
       "\n",
       "    .dataframe tbody tr th {\n",
       "        vertical-align: top;\n",
       "    }\n",
       "\n",
       "    .dataframe thead th {\n",
       "        text-align: right;\n",
       "    }\n",
       "</style>\n",
       "<table border=\"1\" class=\"dataframe\">\n",
       "  <thead>\n",
       "    <tr style=\"text-align: right;\">\n",
       "      <th></th>\n",
       "      <th>2017_1</th>\n",
       "      <th>2017_2</th>\n",
       "      <th>2017_3</th>\n",
       "      <th>2017_4</th>\n",
       "      <th>2017_5</th>\n",
       "    </tr>\n",
       "  </thead>\n",
       "  <tbody>\n",
       "    <tr>\n",
       "      <th>2017_1_source1</th>\n",
       "      <td>100.0</td>\n",
       "      <td>2.247191</td>\n",
       "      <td>1.685393</td>\n",
       "      <td>0.000000</td>\n",
       "      <td>1.123596</td>\n",
       "    </tr>\n",
       "    <tr>\n",
       "      <th>2017_2_source1</th>\n",
       "      <td>100.0</td>\n",
       "      <td>2.898551</td>\n",
       "      <td>1.449275</td>\n",
       "      <td>2.415459</td>\n",
       "      <td>NaN</td>\n",
       "    </tr>\n",
       "    <tr>\n",
       "      <th>2017_3_source1</th>\n",
       "      <td>100.0</td>\n",
       "      <td>1.025641</td>\n",
       "      <td>1.538462</td>\n",
       "      <td>NaN</td>\n",
       "      <td>NaN</td>\n",
       "    </tr>\n",
       "    <tr>\n",
       "      <th>2017_4_source1</th>\n",
       "      <td>100.0</td>\n",
       "      <td>1.960784</td>\n",
       "      <td>NaN</td>\n",
       "      <td>NaN</td>\n",
       "      <td>NaN</td>\n",
       "    </tr>\n",
       "  </tbody>\n",
       "</table>\n",
       "</div>"
      ],
      "text/plain": [
       "                2017_1    2017_2    2017_3    2017_4    2017_5\n",
       "2017_1_source1   100.0  2.247191  1.685393  0.000000  1.123596\n",
       "2017_2_source1   100.0  2.898551  1.449275  2.415459       NaN\n",
       "2017_3_source1   100.0  1.025641  1.538462       NaN       NaN\n",
       "2017_4_source1   100.0  1.960784       NaN       NaN       NaN"
      ]
     },
     "execution_count": 90,
     "metadata": {},
     "output_type": "execute_result"
    }
   ],
   "source": [
    "renetion_2017_source1 = pd.DataFrame([\n",
    "    [(0 if True not in new_2017_1_paying_source1['uid'].isin(paying_2017_1['uid']).value_counts().index.values else new_2017_1_paying_source1['uid'].isin(paying_2017_1['uid']).value_counts()[True] / new_2017_1_paying_source1['uid'].shape[0] * 100),\n",
    "    (0 if True not in new_2017_1_paying_source1['uid'].isin(paying_2017_2['uid']).value_counts().index.values else new_2017_1_paying_source1['uid'].isin(paying_2017_2['uid']).value_counts()[True] / new_2017_1_paying_source1['uid'].shape[0] * 100),\n",
    "    (0 if True not in new_2017_1_paying_source1['uid'].isin(paying_2017_3['uid']).value_counts().index.values else new_2017_1_paying_source1['uid'].isin(paying_2017_3['uid']).value_counts()[True] / new_2017_1_paying_source1['uid'].shape[0] * 100),\n",
    "    (0 if True not in new_2017_1_paying_source1['uid'].isin(paying_2017_4['uid']).value_counts().index.values else new_2017_1_paying_source1['uid'].isin(paying_2017_4['uid']).value_counts()[True] / new_2017_1_paying_source1['uid'].shape[0] * 100),\n",
    "    (0 if True not in new_2017_1_paying_source1['uid'].isin(paying_2017_5['uid']).value_counts().index.values else new_2017_1_paying_source1['uid'].isin(paying_2017_5['uid']).value_counts()[True] / new_2017_1_paying_source1['uid'].shape[0] * 100)],\n",
    "\n",
    "    [(0 if True not in new_2017_2_paying_source1['uid'].isin(paying_2017_2['uid']).value_counts().index.values else new_2017_2_paying_source1['uid'].isin(paying_2017_2['uid']).value_counts()[True] / new_2017_2_paying_source1['uid'].shape[0] * 100),\n",
    "    (0 if True not in new_2017_2_paying_source1['uid'].isin(paying_2017_3['uid']).value_counts().index.values else new_2017_2_paying_source1['uid'].isin(paying_2017_3['uid']).value_counts()[True] / new_2017_2_paying_source1['uid'].shape[0] * 100),\n",
    "    (0 if True not in new_2017_2_paying_source1['uid'].isin(paying_2017_4['uid']).value_counts().index.values else new_2017_2_paying_source1['uid'].isin(paying_2017_4['uid']).value_counts()[True] / new_2017_2_paying_source1['uid'].shape[0] * 100),\n",
    "    (0 if True not in new_2017_2_paying_source1['uid'].isin(paying_2017_5['uid']).value_counts().index.values else new_2017_2_paying_source1['uid'].isin(paying_2017_5['uid']).value_counts()[True] / new_2017_2_paying_source1['uid'].shape[0] * 100)],\n",
    "\n",
    "    [(0 if True not in new_2017_3_paying_source1['uid'].isin(paying_2017_3['uid']).value_counts().index.values else new_2017_3_paying_source1['uid'].isin(paying_2017_3['uid']).value_counts()[True] / new_2017_3_paying_source1['uid'].shape[0] * 100),\n",
    "    (0 if True not in new_2017_3_paying_source1['uid'].isin(paying_2017_4['uid']).value_counts().index.values else new_2017_3_paying_source1['uid'].isin(paying_2017_4['uid']).value_counts()[True] / new_2017_3_paying_source1['uid'].shape[0] * 100),\n",
    "    (0 if True not in new_2017_3_paying_source1['uid'].isin(paying_2017_5['uid']).value_counts().index.values else new_2017_3_paying_source1['uid'].isin(paying_2017_5['uid']).value_counts()[True] / new_2017_3_paying_source1['uid'].shape[0] * 100)],\n",
    "\n",
    "    [(0 if True not in new_2017_4_paying_source1['uid'].isin(paying_2017_4['uid']).value_counts().index.values else new_2017_4_paying_source1['uid'].isin(paying_2017_4['uid']).value_counts()[True] / new_2017_4_paying_source1['uid'].shape[0] * 100),\n",
    "    (0 if True not in new_2017_4_paying_source1['uid'].isin(paying_2017_5['uid']).value_counts().index.values else new_2017_4_paying_source1['uid'].isin(paying_2017_5['uid']).value_counts()[True] / new_2017_4_paying_source1['uid'].shape[0] * 100)]\n",
    "\n",
    "],\n",
    "columns=['2017_1', '2017_2', '2017_3', '2017_4', '2017_5',],\n",
    "index=['2017_1_source1', '2017_2_source1', '2017_3_source1', '2017_4_source1']);\n",
    "renetion_2017_source1"
   ]
  },
  {
   "cell_type": "code",
   "execution_count": 91,
   "metadata": {},
   "outputs": [
    {
     "data": {
      "image/png": "[encoded data removed]",
      "text/plain": [
       "<matplotlib.figure.Figure at 0x1a26037908>"
      ]
     },
     "metadata": {},
     "output_type": "display_data"
    }
   ],
   "source": [
    "renetion_2017_source1.T.plot();"
   ]
  },
  {
   "cell_type": "code",
   "execution_count": 92,
   "metadata": {},
   "outputs": [
    {
     "data": {
      "text/html": [
       "<div>\n",
       "<style scoped>\n",
       "    .dataframe tbody tr th:only-of-type {\n",
       "        vertical-align: middle;\n",
       "    }\n",
       "\n",
       "    .dataframe tbody tr th {\n",
       "        vertical-align: top;\n",
       "    }\n",
       "\n",
       "    .dataframe thead th {\n",
       "        text-align: right;\n",
       "    }\n",
       "</style>\n",
       "<table border=\"1\" class=\"dataframe\">\n",
       "  <thead>\n",
       "    <tr style=\"text-align: right;\">\n",
       "      <th></th>\n",
       "      <th>2017_1</th>\n",
       "      <th>2017_2</th>\n",
       "      <th>2017_3</th>\n",
       "      <th>2017_4</th>\n",
       "      <th>2017_5</th>\n",
       "    </tr>\n",
       "  </thead>\n",
       "  <tbody>\n",
       "    <tr>\n",
       "      <th>2017_1_source2</th>\n",
       "      <td>100.0</td>\n",
       "      <td>4.838710</td>\n",
       "      <td>4.435484</td>\n",
       "      <td>2.822581</td>\n",
       "      <td>2.419355</td>\n",
       "    </tr>\n",
       "    <tr>\n",
       "      <th>2017_2_source2</th>\n",
       "      <td>100.0</td>\n",
       "      <td>4.395604</td>\n",
       "      <td>3.296703</td>\n",
       "      <td>0.732601</td>\n",
       "      <td>NaN</td>\n",
       "    </tr>\n",
       "    <tr>\n",
       "      <th>2017_3_source2</th>\n",
       "      <td>100.0</td>\n",
       "      <td>2.536232</td>\n",
       "      <td>1.086957</td>\n",
       "      <td>NaN</td>\n",
       "      <td>NaN</td>\n",
       "    </tr>\n",
       "    <tr>\n",
       "      <th>2017_4_source2</th>\n",
       "      <td>100.0</td>\n",
       "      <td>4.188482</td>\n",
       "      <td>NaN</td>\n",
       "      <td>NaN</td>\n",
       "      <td>NaN</td>\n",
       "    </tr>\n",
       "  </tbody>\n",
       "</table>\n",
       "</div>"
      ],
      "text/plain": [
       "                2017_1    2017_2    2017_3    2017_4    2017_5\n",
       "2017_1_source2   100.0  4.838710  4.435484  2.822581  2.419355\n",
       "2017_2_source2   100.0  4.395604  3.296703  0.732601       NaN\n",
       "2017_3_source2   100.0  2.536232  1.086957       NaN       NaN\n",
       "2017_4_source2   100.0  4.188482       NaN       NaN       NaN"
      ]
     },
     "execution_count": 92,
     "metadata": {},
     "output_type": "execute_result"
    }
   ],
   "source": [
    "renetion_2017_source2 = pd.DataFrame([\n",
    "    [(0 if True not in new_2017_1_paying_source2['uid'].isin(paying_2017_1['uid']).value_counts().index.values else new_2017_1_paying_source2['uid'].isin(paying_2017_1['uid']).value_counts()[True] / new_2017_1_paying_source2['uid'].shape[0] * 100),\n",
    "    (0 if True not in new_2017_1_paying_source2['uid'].isin(paying_2017_2['uid']).value_counts().index.values else new_2017_1_paying_source2['uid'].isin(paying_2017_2['uid']).value_counts()[True] / new_2017_1_paying_source2['uid'].shape[0] * 100),\n",
    "    (0 if True not in new_2017_1_paying_source2['uid'].isin(paying_2017_3['uid']).value_counts().index.values else new_2017_1_paying_source2['uid'].isin(paying_2017_3['uid']).value_counts()[True] / new_2017_1_paying_source2['uid'].shape[0] * 100),\n",
    "    (0 if True not in new_2017_1_paying_source2['uid'].isin(paying_2017_4['uid']).value_counts().index.values else new_2017_1_paying_source2['uid'].isin(paying_2017_4['uid']).value_counts()[True] / new_2017_1_paying_source2['uid'].shape[0] * 100),\n",
    "    (0 if True not in new_2017_1_paying_source2['uid'].isin(paying_2017_5['uid']).value_counts().index.values else new_2017_1_paying_source2['uid'].isin(paying_2017_5['uid']).value_counts()[True] / new_2017_1_paying_source2['uid'].shape[0] * 100)],\n",
    "\n",
    "    [(0 if True not in new_2017_2_paying_source2['uid'].isin(paying_2017_2['uid']).value_counts().index.values else new_2017_2_paying_source2['uid'].isin(paying_2017_2['uid']).value_counts()[True] / new_2017_2_paying_source2['uid'].shape[0] * 100),\n",
    "    (0 if True not in new_2017_2_paying_source2['uid'].isin(paying_2017_3['uid']).value_counts().index.values else new_2017_2_paying_source2['uid'].isin(paying_2017_3['uid']).value_counts()[True] / new_2017_2_paying_source2['uid'].shape[0] * 100),\n",
    "    (0 if True not in new_2017_2_paying_source2['uid'].isin(paying_2017_4['uid']).value_counts().index.values else new_2017_2_paying_source2['uid'].isin(paying_2017_4['uid']).value_counts()[True] / new_2017_2_paying_source2['uid'].shape[0] * 100),\n",
    "    (0 if True not in new_2017_2_paying_source2['uid'].isin(paying_2017_5['uid']).value_counts().index.values else new_2017_2_paying_source2['uid'].isin(paying_2017_5['uid']).value_counts()[True] / new_2017_2_paying_source2['uid'].shape[0] * 100)],\n",
    "\n",
    "    [(0 if True not in new_2017_3_paying_source2['uid'].isin(paying_2017_3['uid']).value_counts().index.values else new_2017_3_paying_source2['uid'].isin(paying_2017_3['uid']).value_counts()[True] / new_2017_3_paying_source2['uid'].shape[0] * 100),\n",
    "    (0 if True not in new_2017_3_paying_source2['uid'].isin(paying_2017_4['uid']).value_counts().index.values else new_2017_3_paying_source2['uid'].isin(paying_2017_4['uid']).value_counts()[True] / new_2017_3_paying_source2['uid'].shape[0] * 100),\n",
    "    (0 if True not in new_2017_3_paying_source2['uid'].isin(paying_2017_5['uid']).value_counts().index.values else new_2017_3_paying_source2['uid'].isin(paying_2017_5['uid']).value_counts()[True] / new_2017_3_paying_source2['uid'].shape[0] * 100)],\n",
    "\n",
    "    [(0 if True not in new_2017_4_paying_source2['uid'].isin(paying_2017_4['uid']).value_counts().index.values else new_2017_4_paying_source2['uid'].isin(paying_2017_4['uid']).value_counts()[True] / new_2017_4_paying_source2['uid'].shape[0] * 100),\n",
    "    (0 if True not in new_2017_4_paying_source2['uid'].isin(paying_2017_5['uid']).value_counts().index.values else new_2017_4_paying_source2['uid'].isin(paying_2017_5['uid']).value_counts()[True] / new_2017_4_paying_source2['uid'].shape[0] * 100)]\n",
    "\n",
    "],\n",
    "columns=['2017_1', '2017_2', '2017_3', '2017_4', '2017_5',],\n",
    "index=['2017_1_source2', '2017_2_source2', '2017_3_source2', '2017_4_source2']);\n",
    "renetion_2017_source2"
   ]
  },
  {
   "cell_type": "code",
   "execution_count": 93,
   "metadata": {},
   "outputs": [
    {
     "data": {
      "image/png": "[encoded data removed]",
      "text/plain": [
       "<matplotlib.figure.Figure at 0x1a26023ba8>"
      ]
     },
     "metadata": {},
     "output_type": "display_data"
    }
   ],
   "source": [
    "renetion_2017_source2.T.plot();"
   ]
  },
  {
   "cell_type": "code",
   "execution_count": 94,
   "metadata": {},
   "outputs": [
    {
     "data": {
      "text/html": [
       "<div>\n",
       "<style scoped>\n",
       "    .dataframe tbody tr th:only-of-type {\n",
       "        vertical-align: middle;\n",
       "    }\n",
       "\n",
       "    .dataframe tbody tr th {\n",
       "        vertical-align: top;\n",
       "    }\n",
       "\n",
       "    .dataframe thead th {\n",
       "        text-align: right;\n",
       "    }\n",
       "</style>\n",
       "<table border=\"1\" class=\"dataframe\">\n",
       "  <thead>\n",
       "    <tr style=\"text-align: right;\">\n",
       "      <th></th>\n",
       "      <th>2017_1</th>\n",
       "      <th>2017_2</th>\n",
       "      <th>2017_3</th>\n",
       "      <th>2017_4</th>\n",
       "      <th>2017_5</th>\n",
       "    </tr>\n",
       "  </thead>\n",
       "  <tbody>\n",
       "    <tr>\n",
       "      <th>2017_1_source3</th>\n",
       "      <td>100.0</td>\n",
       "      <td>2.852853</td>\n",
       "      <td>1.726727</td>\n",
       "      <td>0.975976</td>\n",
       "      <td>0.3003</td>\n",
       "    </tr>\n",
       "    <tr>\n",
       "      <th>2017_2_source3</th>\n",
       "      <td>100.0</td>\n",
       "      <td>2.069950</td>\n",
       "      <td>0.999286</td>\n",
       "      <td>0.927909</td>\n",
       "      <td>NaN</td>\n",
       "    </tr>\n",
       "    <tr>\n",
       "      <th>2017_3_source3</th>\n",
       "      <td>100.0</td>\n",
       "      <td>2.392739</td>\n",
       "      <td>1.072607</td>\n",
       "      <td>NaN</td>\n",
       "      <td>NaN</td>\n",
       "    </tr>\n",
       "    <tr>\n",
       "      <th>2017_4_source3</th>\n",
       "      <td>100.0</td>\n",
       "      <td>2.206897</td>\n",
       "      <td>NaN</td>\n",
       "      <td>NaN</td>\n",
       "      <td>NaN</td>\n",
       "    </tr>\n",
       "  </tbody>\n",
       "</table>\n",
       "</div>"
      ],
      "text/plain": [
       "                2017_1    2017_2    2017_3    2017_4  2017_5\n",
       "2017_1_source3   100.0  2.852853  1.726727  0.975976  0.3003\n",
       "2017_2_source3   100.0  2.069950  0.999286  0.927909     NaN\n",
       "2017_3_source3   100.0  2.392739  1.072607       NaN     NaN\n",
       "2017_4_source3   100.0  2.206897       NaN       NaN     NaN"
      ]
     },
     "execution_count": 94,
     "metadata": {},
     "output_type": "execute_result"
    }
   ],
   "source": [
    "renetion_2017_source3 = pd.DataFrame([\n",
    "    [(0 if True not in new_2017_1_paying_source3['uid'].isin(paying_2017_1['uid']).value_counts().index.values else new_2017_1_paying_source3['uid'].isin(paying_2017_1['uid']).value_counts()[True] / new_2017_1_paying_source3['uid'].shape[0] * 100),\n",
    "    (0 if True not in new_2017_1_paying_source3['uid'].isin(paying_2017_2['uid']).value_counts().index.values else new_2017_1_paying_source3['uid'].isin(paying_2017_2['uid']).value_counts()[True] / new_2017_1_paying_source3['uid'].shape[0] * 100),\n",
    "    (0 if True not in new_2017_1_paying_source3['uid'].isin(paying_2017_3['uid']).value_counts().index.values else new_2017_1_paying_source3['uid'].isin(paying_2017_3['uid']).value_counts()[True] / new_2017_1_paying_source3['uid'].shape[0] * 100),\n",
    "    (0 if True not in new_2017_1_paying_source3['uid'].isin(paying_2017_4['uid']).value_counts().index.values else new_2017_1_paying_source3['uid'].isin(paying_2017_4['uid']).value_counts()[True] / new_2017_1_paying_source3['uid'].shape[0] * 100),\n",
    "    (0 if True not in new_2017_1_paying_source3['uid'].isin(paying_2017_5['uid']).value_counts().index.values else new_2017_1_paying_source3['uid'].isin(paying_2017_5['uid']).value_counts()[True] / new_2017_1_paying_source3['uid'].shape[0] * 100)],\n",
    "\n",
    "    [(0 if True not in new_2017_2_paying_source3['uid'].isin(paying_2017_2['uid']).value_counts().index.values else new_2017_2_paying_source3['uid'].isin(paying_2017_2['uid']).value_counts()[True] / new_2017_2_paying_source3['uid'].shape[0] * 100),\n",
    "    (0 if True not in new_2017_2_paying_source3['uid'].isin(paying_2017_3['uid']).value_counts().index.values else new_2017_2_paying_source3['uid'].isin(paying_2017_3['uid']).value_counts()[True] / new_2017_2_paying_source3['uid'].shape[0] * 100),\n",
    "    (0 if True not in new_2017_2_paying_source3['uid'].isin(paying_2017_4['uid']).value_counts().index.values else new_2017_2_paying_source3['uid'].isin(paying_2017_4['uid']).value_counts()[True] / new_2017_2_paying_source3['uid'].shape[0] * 100),\n",
    "    (0 if True not in new_2017_2_paying_source3['uid'].isin(paying_2017_5['uid']).value_counts().index.values else new_2017_2_paying_source3['uid'].isin(paying_2017_5['uid']).value_counts()[True] / new_2017_2_paying_source3['uid'].shape[0] * 100)],\n",
    "\n",
    "    [(0 if True not in new_2017_3_paying_source3['uid'].isin(paying_2017_3['uid']).value_counts().index.values else new_2017_3_paying_source3['uid'].isin(paying_2017_3['uid']).value_counts()[True] / new_2017_3_paying_source3['uid'].shape[0] * 100),\n",
    "    (0 if True not in new_2017_3_paying_source3['uid'].isin(paying_2017_4['uid']).value_counts().index.values else new_2017_3_paying_source3['uid'].isin(paying_2017_4['uid']).value_counts()[True] / new_2017_3_paying_source3['uid'].shape[0] * 100),\n",
    "    (0 if True not in new_2017_3_paying_source3['uid'].isin(paying_2017_5['uid']).value_counts().index.values else new_2017_3_paying_source3['uid'].isin(paying_2017_5['uid']).value_counts()[True] / new_2017_3_paying_source3['uid'].shape[0] * 100)],\n",
    "\n",
    "    [(0 if True not in new_2017_4_paying_source3['uid'].isin(paying_2017_4['uid']).value_counts().index.values else new_2017_4_paying_source3['uid'].isin(paying_2017_4['uid']).value_counts()[True] / new_2017_4_paying_source3['uid'].shape[0] * 100),\n",
    "    (0 if True not in new_2017_4_paying_source3['uid'].isin(paying_2017_5['uid']).value_counts().index.values else new_2017_4_paying_source3['uid'].isin(paying_2017_5['uid']).value_counts()[True] / new_2017_4_paying_source3['uid'].shape[0] * 100)]\n",
    "\n",
    "],\n",
    "columns=['2017_1', '2017_2', '2017_3', '2017_4', '2017_5',],\n",
    "index=['2017_1_source3', '2017_2_source3', '2017_3_source3', '2017_4_source3']);\n",
    "renetion_2017_source3"
   ]
  },
  {
   "cell_type": "code",
   "execution_count": 95,
   "metadata": {},
   "outputs": [
    {
     "data": {
      "text/plain": [
       "<matplotlib.axes._subplots.AxesSubplot at 0x1a11715ac8>"
      ]
     },
     "execution_count": 95,
     "metadata": {},
     "output_type": "execute_result"
    },
    {
     "data": {
      "image/png": "[encoded data removed]",
      "text/plain": [
       "<matplotlib.figure.Figure at 0x1a11714630>"
      ]
     },
     "metadata": {},
     "output_type": "display_data"
    }
   ],
   "source": [
    "renetion_2017_source3.T.plot()"
   ]
  },
  {
   "cell_type": "code",
   "execution_count": 96,
   "metadata": {},
   "outputs": [
    {
     "data": {
      "text/html": [
       "<div>\n",
       "<style scoped>\n",
       "    .dataframe tbody tr th:only-of-type {\n",
       "        vertical-align: middle;\n",
       "    }\n",
       "\n",
       "    .dataframe tbody tr th {\n",
       "        vertical-align: top;\n",
       "    }\n",
       "\n",
       "    .dataframe thead th {\n",
       "        text-align: right;\n",
       "    }\n",
       "</style>\n",
       "<table border=\"1\" class=\"dataframe\">\n",
       "  <thead>\n",
       "    <tr style=\"text-align: right;\">\n",
       "      <th></th>\n",
       "      <th>2017_1</th>\n",
       "      <th>2017_2</th>\n",
       "      <th>2017_3</th>\n",
       "      <th>2017_4</th>\n",
       "      <th>2017_5</th>\n",
       "    </tr>\n",
       "  </thead>\n",
       "  <tbody>\n",
       "    <tr>\n",
       "      <th>2017_1_source4</th>\n",
       "      <td>100.0</td>\n",
       "      <td>1.909855</td>\n",
       "      <td>1.069519</td>\n",
       "      <td>0.763942</td>\n",
       "      <td>0.458365</td>\n",
       "    </tr>\n",
       "    <tr>\n",
       "      <th>2017_2_source4</th>\n",
       "      <td>100.0</td>\n",
       "      <td>2.878229</td>\n",
       "      <td>0.811808</td>\n",
       "      <td>0.516605</td>\n",
       "      <td>NaN</td>\n",
       "    </tr>\n",
       "    <tr>\n",
       "      <th>2017_3_source4</th>\n",
       "      <td>100.0</td>\n",
       "      <td>1.402214</td>\n",
       "      <td>1.180812</td>\n",
       "      <td>NaN</td>\n",
       "      <td>NaN</td>\n",
       "    </tr>\n",
       "    <tr>\n",
       "      <th>2017_4_source4</th>\n",
       "      <td>100.0</td>\n",
       "      <td>2.338530</td>\n",
       "      <td>NaN</td>\n",
       "      <td>NaN</td>\n",
       "      <td>NaN</td>\n",
       "    </tr>\n",
       "  </tbody>\n",
       "</table>\n",
       "</div>"
      ],
      "text/plain": [
       "                2017_1    2017_2    2017_3    2017_4    2017_5\n",
       "2017_1_source4   100.0  1.909855  1.069519  0.763942  0.458365\n",
       "2017_2_source4   100.0  2.878229  0.811808  0.516605       NaN\n",
       "2017_3_source4   100.0  1.402214  1.180812       NaN       NaN\n",
       "2017_4_source4   100.0  2.338530       NaN       NaN       NaN"
      ]
     },
     "execution_count": 96,
     "metadata": {},
     "output_type": "execute_result"
    }
   ],
   "source": [
    "renetion_2017_source4 = pd.DataFrame([\n",
    "    [(0 if True not in new_2017_1_paying_source4['uid'].isin(paying_2017_1['uid']).value_counts().index.values else new_2017_1_paying_source4['uid'].isin(paying_2017_1['uid']).value_counts()[True] / new_2017_1_paying_source4['uid'].shape[0] * 100),\n",
    "    (0 if True not in new_2017_1_paying_source4['uid'].isin(paying_2017_2['uid']).value_counts().index.values else new_2017_1_paying_source4['uid'].isin(paying_2017_2['uid']).value_counts()[True] / new_2017_1_paying_source4['uid'].shape[0] * 100),\n",
    "    (0 if True not in new_2017_1_paying_source4['uid'].isin(paying_2017_3['uid']).value_counts().index.values else new_2017_1_paying_source4['uid'].isin(paying_2017_3['uid']).value_counts()[True] / new_2017_1_paying_source4['uid'].shape[0] * 100),\n",
    "    (0 if True not in new_2017_1_paying_source4['uid'].isin(paying_2017_4['uid']).value_counts().index.values else new_2017_1_paying_source4['uid'].isin(paying_2017_4['uid']).value_counts()[True] / new_2017_1_paying_source4['uid'].shape[0] * 100),\n",
    "    (0 if True not in new_2017_1_paying_source4['uid'].isin(paying_2017_5['uid']).value_counts().index.values else new_2017_1_paying_source4['uid'].isin(paying_2017_5['uid']).value_counts()[True] / new_2017_1_paying_source4['uid'].shape[0] * 100)],\n",
    "\n",
    "    [(0 if True not in new_2017_2_paying_source4['uid'].isin(paying_2017_2['uid']).value_counts().index.values else new_2017_2_paying_source4['uid'].isin(paying_2017_2['uid']).value_counts()[True] / new_2017_2_paying_source4['uid'].shape[0] * 100),\n",
    "    (0 if True not in new_2017_2_paying_source4['uid'].isin(paying_2017_3['uid']).value_counts().index.values else new_2017_2_paying_source4['uid'].isin(paying_2017_3['uid']).value_counts()[True] / new_2017_2_paying_source4['uid'].shape[0] * 100),\n",
    "    (0 if True not in new_2017_2_paying_source4['uid'].isin(paying_2017_4['uid']).value_counts().index.values else new_2017_2_paying_source4['uid'].isin(paying_2017_4['uid']).value_counts()[True] / new_2017_2_paying_source4['uid'].shape[0] * 100),\n",
    "    (0 if True not in new_2017_2_paying_source4['uid'].isin(paying_2017_5['uid']).value_counts().index.values else new_2017_2_paying_source4['uid'].isin(paying_2017_5['uid']).value_counts()[True] / new_2017_2_paying_source4['uid'].shape[0] * 100)],\n",
    "\n",
    "    [(0 if True not in new_2017_3_paying_source4['uid'].isin(paying_2017_3['uid']).value_counts().index.values else new_2017_3_paying_source4['uid'].isin(paying_2017_3['uid']).value_counts()[True] / new_2017_3_paying_source4['uid'].shape[0] * 100),\n",
    "    (0 if True not in new_2017_3_paying_source4['uid'].isin(paying_2017_4['uid']).value_counts().index.values else new_2017_3_paying_source4['uid'].isin(paying_2017_4['uid']).value_counts()[True] / new_2017_3_paying_source4['uid'].shape[0] * 100),\n",
    "    (0 if True not in new_2017_3_paying_source4['uid'].isin(paying_2017_5['uid']).value_counts().index.values else new_2017_3_paying_source4['uid'].isin(paying_2017_5['uid']).value_counts()[True] / new_2017_3_paying_source4['uid'].shape[0] * 100)],\n",
    "\n",
    "    [(0 if True not in new_2017_4_paying_source4['uid'].isin(paying_2017_4['uid']).value_counts().index.values else new_2017_4_paying_source4['uid'].isin(paying_2017_4['uid']).value_counts()[True] / new_2017_4_paying_source4['uid'].shape[0] * 100),\n",
    "    (0 if True not in new_2017_4_paying_source4['uid'].isin(paying_2017_5['uid']).value_counts().index.values else new_2017_4_paying_source4['uid'].isin(paying_2017_5['uid']).value_counts()[True] / new_2017_4_paying_source4['uid'].shape[0] * 100)]\n",
    "\n",
    "],\n",
    "columns=['2017_1', '2017_2', '2017_3', '2017_4', '2017_5',],\n",
    "index=['2017_1_source4', '2017_2_source4', '2017_3_source4', '2017_4_source4']);\n",
    "renetion_2017_source4"
   ]
  },
  {
   "cell_type": "code",
   "execution_count": 97,
   "metadata": {},
   "outputs": [
    {
     "data": {
      "image/png": "[encoded data removed]",
      "text/plain": [
       "<matplotlib.figure.Figure at 0x1a117022e8>"
      ]
     },
     "metadata": {},
     "output_type": "display_data"
    }
   ],
   "source": [
    "renetion_2017_source4.T.plot();"
   ]
  },
  {
   "cell_type": "code",
   "execution_count": 98,
   "metadata": {},
   "outputs": [
    {
     "data": {
      "text/html": [
       "<div>\n",
       "<style scoped>\n",
       "    .dataframe tbody tr th:only-of-type {\n",
       "        vertical-align: middle;\n",
       "    }\n",
       "\n",
       "    .dataframe tbody tr th {\n",
       "        vertical-align: top;\n",
       "    }\n",
       "\n",
       "    .dataframe thead th {\n",
       "        text-align: right;\n",
       "    }\n",
       "</style>\n",
       "<table border=\"1\" class=\"dataframe\">\n",
       "  <thead>\n",
       "    <tr style=\"text-align: right;\">\n",
       "      <th></th>\n",
       "      <th>2017_1</th>\n",
       "      <th>2017_2</th>\n",
       "      <th>2017_3</th>\n",
       "      <th>2017_4</th>\n",
       "      <th>2017_5</th>\n",
       "    </tr>\n",
       "  </thead>\n",
       "  <tbody>\n",
       "    <tr>\n",
       "      <th>2017_1_source5</th>\n",
       "      <td>100.0</td>\n",
       "      <td>2.832861</td>\n",
       "      <td>2.407932</td>\n",
       "      <td>0.283286</td>\n",
       "      <td>1.133144</td>\n",
       "    </tr>\n",
       "    <tr>\n",
       "      <th>2017_2_source5</th>\n",
       "      <td>100.0</td>\n",
       "      <td>2.649007</td>\n",
       "      <td>0.927152</td>\n",
       "      <td>1.192053</td>\n",
       "      <td>NaN</td>\n",
       "    </tr>\n",
       "    <tr>\n",
       "      <th>2017_3_source5</th>\n",
       "      <td>100.0</td>\n",
       "      <td>2.680412</td>\n",
       "      <td>0.618557</td>\n",
       "      <td>NaN</td>\n",
       "      <td>NaN</td>\n",
       "    </tr>\n",
       "    <tr>\n",
       "      <th>2017_4_source5</th>\n",
       "      <td>100.0</td>\n",
       "      <td>1.508621</td>\n",
       "      <td>NaN</td>\n",
       "      <td>NaN</td>\n",
       "      <td>NaN</td>\n",
       "    </tr>\n",
       "  </tbody>\n",
       "</table>\n",
       "</div>"
      ],
      "text/plain": [
       "                2017_1    2017_2    2017_3    2017_4    2017_5\n",
       "2017_1_source5   100.0  2.832861  2.407932  0.283286  1.133144\n",
       "2017_2_source5   100.0  2.649007  0.927152  1.192053       NaN\n",
       "2017_3_source5   100.0  2.680412  0.618557       NaN       NaN\n",
       "2017_4_source5   100.0  1.508621       NaN       NaN       NaN"
      ]
     },
     "execution_count": 98,
     "metadata": {},
     "output_type": "execute_result"
    }
   ],
   "source": [
    "renetion_2017_source5 = pd.DataFrame([\n",
    "    [(0 if True not in new_2017_1_paying_source5['uid'].isin(paying_2017_1['uid']).value_counts().index.values else new_2017_1_paying_source5['uid'].isin(paying_2017_1['uid']).value_counts()[True] / new_2017_1_paying_source5['uid'].shape[0] * 100),\n",
    "    (0 if True not in new_2017_1_paying_source5['uid'].isin(paying_2017_2['uid']).value_counts().index.values else new_2017_1_paying_source5['uid'].isin(paying_2017_2['uid']).value_counts()[True] / new_2017_1_paying_source5['uid'].shape[0] * 100),\n",
    "    (0 if True not in new_2017_1_paying_source5['uid'].isin(paying_2017_3['uid']).value_counts().index.values else new_2017_1_paying_source5['uid'].isin(paying_2017_3['uid']).value_counts()[True] / new_2017_1_paying_source5['uid'].shape[0] * 100),\n",
    "    (0 if True not in new_2017_1_paying_source5['uid'].isin(paying_2017_4['uid']).value_counts().index.values else new_2017_1_paying_source5['uid'].isin(paying_2017_4['uid']).value_counts()[True] / new_2017_1_paying_source5['uid'].shape[0] * 100),\n",
    "    (0 if True not in new_2017_1_paying_source5['uid'].isin(paying_2017_5['uid']).value_counts().index.values else new_2017_1_paying_source5['uid'].isin(paying_2017_5['uid']).value_counts()[True] / new_2017_1_paying_source5['uid'].shape[0] * 100)],\n",
    "\n",
    "    [(0 if True not in new_2017_2_paying_source5['uid'].isin(paying_2017_2['uid']).value_counts().index.values else new_2017_2_paying_source5['uid'].isin(paying_2017_2['uid']).value_counts()[True] / new_2017_2_paying_source5['uid'].shape[0] * 100),\n",
    "    (0 if True not in new_2017_2_paying_source5['uid'].isin(paying_2017_3['uid']).value_counts().index.values else new_2017_2_paying_source5['uid'].isin(paying_2017_3['uid']).value_counts()[True] / new_2017_2_paying_source5['uid'].shape[0] * 100),\n",
    "    (0 if True not in new_2017_2_paying_source5['uid'].isin(paying_2017_4['uid']).value_counts().index.values else new_2017_2_paying_source5['uid'].isin(paying_2017_4['uid']).value_counts()[True] / new_2017_2_paying_source5['uid'].shape[0] * 100),\n",
    "    (0 if True not in new_2017_2_paying_source5['uid'].isin(paying_2017_5['uid']).value_counts().index.values else new_2017_2_paying_source5['uid'].isin(paying_2017_5['uid']).value_counts()[True] / new_2017_2_paying_source5['uid'].shape[0] * 100)],\n",
    "\n",
    "    [(0 if True not in new_2017_3_paying_source5['uid'].isin(paying_2017_3['uid']).value_counts().index.values else new_2017_3_paying_source5['uid'].isin(paying_2017_3['uid']).value_counts()[True] / new_2017_3_paying_source5['uid'].shape[0] * 100),\n",
    "    (0 if True not in new_2017_3_paying_source5['uid'].isin(paying_2017_4['uid']).value_counts().index.values else new_2017_3_paying_source5['uid'].isin(paying_2017_4['uid']).value_counts()[True] / new_2017_3_paying_source5['uid'].shape[0] * 100),\n",
    "    (0 if True not in new_2017_3_paying_source5['uid'].isin(paying_2017_5['uid']).value_counts().index.values else new_2017_3_paying_source5['uid'].isin(paying_2017_5['uid']).value_counts()[True] / new_2017_3_paying_source5['uid'].shape[0] * 100)],\n",
    "\n",
    "    [(0 if True not in new_2017_4_paying_source5['uid'].isin(paying_2017_4['uid']).value_counts().index.values else new_2017_4_paying_source5['uid'].isin(paying_2017_4['uid']).value_counts()[True] / new_2017_4_paying_source5['uid'].shape[0] * 100),\n",
    "    (0 if True not in new_2017_4_paying_source5['uid'].isin(paying_2017_5['uid']).value_counts().index.values else new_2017_4_paying_source5['uid'].isin(paying_2017_5['uid']).value_counts()[True] / new_2017_4_paying_source5['uid'].shape[0] * 100)]\n",
    "\n",
    "],\n",
    "columns=['2017_1', '2017_2', '2017_3', '2017_4', '2017_5',],\n",
    "index=['2017_1_source5', '2017_2_source5', '2017_3_source5', '2017_4_source5']);\n",
    "renetion_2017_source5"
   ]
  },
  {
   "cell_type": "code",
   "execution_count": 99,
   "metadata": {},
   "outputs": [
    {
     "data": {
      "text/plain": [
       "<matplotlib.axes._subplots.AxesSubplot at 0x1a116f0048>"
      ]
     },
     "execution_count": 99,
     "metadata": {},
     "output_type": "execute_result"
    },
    {
     "data": {
      "image/png": "[encoded data removed]",
      "text/plain": [
       "<matplotlib.figure.Figure at 0x1a116f2940>"
      ]
     },
     "metadata": {},
     "output_type": "display_data"
    }
   ],
   "source": [
    "renetion_2017_source5.T.plot()"
   ]
  },
  {
   "cell_type": "code",
   "execution_count": 100,
   "metadata": {},
   "outputs": [
    {
     "data": {
      "text/html": [
       "<div>\n",
       "<style scoped>\n",
       "    .dataframe tbody tr th:only-of-type {\n",
       "        vertical-align: middle;\n",
       "    }\n",
       "\n",
       "    .dataframe tbody tr th {\n",
       "        vertical-align: top;\n",
       "    }\n",
       "\n",
       "    .dataframe thead th {\n",
       "        text-align: right;\n",
       "    }\n",
       "</style>\n",
       "<table border=\"1\" class=\"dataframe\">\n",
       "  <thead>\n",
       "    <tr style=\"text-align: right;\">\n",
       "      <th></th>\n",
       "      <th>2017_1</th>\n",
       "      <th>2017_2</th>\n",
       "      <th>2017_3</th>\n",
       "      <th>2017_4</th>\n",
       "      <th>2017_5</th>\n",
       "    </tr>\n",
       "  </thead>\n",
       "  <tbody>\n",
       "    <tr>\n",
       "      <th>2017_1_source9</th>\n",
       "      <td>100.0</td>\n",
       "      <td>8.695652</td>\n",
       "      <td>4.347826</td>\n",
       "      <td>0.0</td>\n",
       "      <td>0.0</td>\n",
       "    </tr>\n",
       "    <tr>\n",
       "      <th>2017_2_source9</th>\n",
       "      <td>100.0</td>\n",
       "      <td>1.785714</td>\n",
       "      <td>1.785714</td>\n",
       "      <td>0.0</td>\n",
       "      <td>NaN</td>\n",
       "    </tr>\n",
       "    <tr>\n",
       "      <th>2017_3_source9</th>\n",
       "      <td>100.0</td>\n",
       "      <td>1.754386</td>\n",
       "      <td>0.877193</td>\n",
       "      <td>NaN</td>\n",
       "      <td>NaN</td>\n",
       "    </tr>\n",
       "    <tr>\n",
       "      <th>2017_4_source9</th>\n",
       "      <td>100.0</td>\n",
       "      <td>0.000000</td>\n",
       "      <td>NaN</td>\n",
       "      <td>NaN</td>\n",
       "      <td>NaN</td>\n",
       "    </tr>\n",
       "  </tbody>\n",
       "</table>\n",
       "</div>"
      ],
      "text/plain": [
       "                2017_1    2017_2    2017_3  2017_4  2017_5\n",
       "2017_1_source9   100.0  8.695652  4.347826     0.0     0.0\n",
       "2017_2_source9   100.0  1.785714  1.785714     0.0     NaN\n",
       "2017_3_source9   100.0  1.754386  0.877193     NaN     NaN\n",
       "2017_4_source9   100.0  0.000000       NaN     NaN     NaN"
      ]
     },
     "execution_count": 100,
     "metadata": {},
     "output_type": "execute_result"
    }
   ],
   "source": [
    "renetion_2017_source9 = pd.DataFrame([\n",
    "    [(0 if True not in new_2017_1_paying_source9['uid'].isin(paying_2017_1['uid']).value_counts().index.values else new_2017_1_paying_source9['uid'].isin(paying_2017_1['uid']).value_counts()[True] / new_2017_1_paying_source9['uid'].shape[0] * 100),\n",
    "    (0 if True not in new_2017_1_paying_source9['uid'].isin(paying_2017_2['uid']).value_counts().index.values else new_2017_1_paying_source9['uid'].isin(paying_2017_2['uid']).value_counts()[True] / new_2017_1_paying_source9['uid'].shape[0] * 100),\n",
    "    (0 if True not in new_2017_1_paying_source9['uid'].isin(paying_2017_3['uid']).value_counts().index.values else new_2017_1_paying_source9['uid'].isin(paying_2017_3['uid']).value_counts()[True] / new_2017_1_paying_source9['uid'].shape[0] * 100),\n",
    "    (0 if True not in new_2017_1_paying_source9['uid'].isin(paying_2017_4['uid']).value_counts().index.values else new_2017_1_paying_source9['uid'].isin(paying_2017_4['uid']).value_counts()[True] / new_2017_1_paying_source9['uid'].shape[0] * 100),\n",
    "    (0 if True not in new_2017_1_paying_source9['uid'].isin(paying_2017_5['uid']).value_counts().index.values else new_2017_1_paying_source9['uid'].isin(paying_2017_5['uid']).value_counts()[True] / new_2017_1_paying_source9['uid'].shape[0] * 100)],\n",
    "\n",
    "    [(0 if True not in new_2017_2_paying_source9['uid'].isin(paying_2017_2['uid']).value_counts().index.values else new_2017_2_paying_source9['uid'].isin(paying_2017_2['uid']).value_counts()[True] / new_2017_2_paying_source9['uid'].shape[0] * 100),\n",
    "    (0 if True not in new_2017_2_paying_source9['uid'].isin(paying_2017_3['uid']).value_counts().index.values else new_2017_2_paying_source9['uid'].isin(paying_2017_3['uid']).value_counts()[True] / new_2017_2_paying_source9['uid'].shape[0] * 100),\n",
    "    (0 if True not in new_2017_2_paying_source9['uid'].isin(paying_2017_4['uid']).value_counts().index.values else new_2017_2_paying_source9['uid'].isin(paying_2017_4['uid']).value_counts()[True] / new_2017_2_paying_source9['uid'].shape[0] * 100),\n",
    "    (0 if True not in new_2017_2_paying_source9['uid'].isin(paying_2017_5['uid']).value_counts().index.values else new_2017_2_paying_source9['uid'].isin(paying_2017_5['uid']).value_counts()[True] / new_2017_2_paying_source9['uid'].shape[0] * 100)],\n",
    "\n",
    "    [(0 if True not in new_2017_3_paying_source9['uid'].isin(paying_2017_3['uid']).value_counts().index.values else new_2017_3_paying_source9['uid'].isin(paying_2017_3['uid']).value_counts()[True] / new_2017_3_paying_source9['uid'].shape[0] * 100),\n",
    "    (0 if True not in new_2017_3_paying_source9['uid'].isin(paying_2017_4['uid']).value_counts().index.values else new_2017_3_paying_source9['uid'].isin(paying_2017_4['uid']).value_counts()[True] / new_2017_3_paying_source9['uid'].shape[0] * 100),\n",
    "    (0 if True not in new_2017_3_paying_source9['uid'].isin(paying_2017_5['uid']).value_counts().index.values else new_2017_3_paying_source9['uid'].isin(paying_2017_5['uid']).value_counts()[True] / new_2017_3_paying_source9['uid'].shape[0] * 100)],\n",
    "\n",
    "    [(0 if True not in new_2017_4_paying_source9['uid'].isin(paying_2017_4['uid']).value_counts().index.values else new_2017_4_paying_source9['uid'].isin(paying_2017_4['uid']).value_counts()[True] / new_2017_4_paying_source9['uid'].shape[0] * 100),\n",
    "    (0 if True not in new_2017_4_paying_source9['uid'].isin(paying_2017_5['uid']).value_counts().index.values else new_2017_4_paying_source9['uid'].isin(paying_2017_5['uid']).value_counts()[True] / new_2017_4_paying_source9['uid'].shape[0] * 100)]\n",
    "\n",
    "],\n",
    "columns=['2017_1', '2017_2', '2017_3', '2017_4', '2017_5',],\n",
    "index=['2017_1_source9', '2017_2_source9', '2017_3_source9', '2017_4_source9']);\n",
    "renetion_2017_source9"
   ]
  },
  {
   "cell_type": "code",
   "execution_count": 101,
   "metadata": {},
   "outputs": [
    {
     "data": {
      "image/png": "[encoded data removed]",
      "text/plain": [
       "<matplotlib.figure.Figure at 0x1a116dea90>"
      ]
     },
     "metadata": {},
     "output_type": "display_data"
    }
   ],
   "source": [
    "renetion_2017_source9.T.plot();"
   ]
  },
  {
   "cell_type": "code",
   "execution_count": 102,
   "metadata": {},
   "outputs": [
    {
     "data": {
      "text/html": [
       "<div>\n",
       "<style scoped>\n",
       "    .dataframe tbody tr th:only-of-type {\n",
       "        vertical-align: middle;\n",
       "    }\n",
       "\n",
       "    .dataframe tbody tr th {\n",
       "        vertical-align: top;\n",
       "    }\n",
       "\n",
       "    .dataframe thead th {\n",
       "        text-align: right;\n",
       "    }\n",
       "</style>\n",
       "<table border=\"1\" class=\"dataframe\">\n",
       "  <thead>\n",
       "    <tr style=\"text-align: right;\">\n",
       "      <th></th>\n",
       "      <th>2017_1</th>\n",
       "      <th>2017_2</th>\n",
       "      <th>2017_3</th>\n",
       "      <th>2017_4</th>\n",
       "      <th>2017_5</th>\n",
       "    </tr>\n",
       "  </thead>\n",
       "  <tbody>\n",
       "    <tr>\n",
       "      <th>2017_1_source10</th>\n",
       "      <td>100.0</td>\n",
       "      <td>1.574803</td>\n",
       "      <td>1.574803</td>\n",
       "      <td>0.0</td>\n",
       "      <td>0.0</td>\n",
       "    </tr>\n",
       "    <tr>\n",
       "      <th>2017_2_source10</th>\n",
       "      <td>100.0</td>\n",
       "      <td>1.724138</td>\n",
       "      <td>1.724138</td>\n",
       "      <td>0.0</td>\n",
       "      <td>NaN</td>\n",
       "    </tr>\n",
       "    <tr>\n",
       "      <th>2017_3_source10</th>\n",
       "      <td>100.0</td>\n",
       "      <td>2.390438</td>\n",
       "      <td>0.796813</td>\n",
       "      <td>NaN</td>\n",
       "      <td>NaN</td>\n",
       "    </tr>\n",
       "    <tr>\n",
       "      <th>2017_4_source10</th>\n",
       "      <td>100.0</td>\n",
       "      <td>0.684932</td>\n",
       "      <td>NaN</td>\n",
       "      <td>NaN</td>\n",
       "      <td>NaN</td>\n",
       "    </tr>\n",
       "  </tbody>\n",
       "</table>\n",
       "</div>"
      ],
      "text/plain": [
       "                 2017_1    2017_2    2017_3  2017_4  2017_5\n",
       "2017_1_source10   100.0  1.574803  1.574803     0.0     0.0\n",
       "2017_2_source10   100.0  1.724138  1.724138     0.0     NaN\n",
       "2017_3_source10   100.0  2.390438  0.796813     NaN     NaN\n",
       "2017_4_source10   100.0  0.684932       NaN     NaN     NaN"
      ]
     },
     "execution_count": 102,
     "metadata": {},
     "output_type": "execute_result"
    }
   ],
   "source": [
    "renetion_2017_source10 = pd.DataFrame([\n",
    "    [(0 if True not in new_2017_1_paying_source10['uid'].isin(paying_2017_1['uid']).value_counts().index.values else new_2017_1_paying_source10['uid'].isin(paying_2017_1['uid']).value_counts()[True] / new_2017_1_paying_source10['uid'].shape[0] * 100),\n",
    "    (0 if True not in new_2017_1_paying_source10['uid'].isin(paying_2017_2['uid']).value_counts().index.values else new_2017_1_paying_source10['uid'].isin(paying_2017_2['uid']).value_counts()[True] / new_2017_1_paying_source10['uid'].shape[0] * 100),\n",
    "    (0 if True not in new_2017_1_paying_source10['uid'].isin(paying_2017_3['uid']).value_counts().index.values else new_2017_1_paying_source10['uid'].isin(paying_2017_3['uid']).value_counts()[True] / new_2017_1_paying_source10['uid'].shape[0] * 100),\n",
    "    (0 if True not in new_2017_1_paying_source10['uid'].isin(paying_2017_4['uid']).value_counts().index.values else new_2017_1_paying_source10['uid'].isin(paying_2017_4['uid']).value_counts()[True] / new_2017_1_paying_source10['uid'].shape[0] * 100),\n",
    "    (0 if True not in new_2017_1_paying_source10['uid'].isin(paying_2017_5['uid']).value_counts().index.values else new_2017_1_paying_source10['uid'].isin(paying_2017_5['uid']).value_counts()[True] / new_2017_1_paying_source10['uid'].shape[0] * 100)],\n",
    "\n",
    "    [(0 if True not in new_2017_2_paying_source10['uid'].isin(paying_2017_2['uid']).value_counts().index.values else new_2017_2_paying_source10['uid'].isin(paying_2017_2['uid']).value_counts()[True] / new_2017_2_paying_source10['uid'].shape[0] * 100),\n",
    "    (0 if True not in new_2017_2_paying_source10['uid'].isin(paying_2017_3['uid']).value_counts().index.values else new_2017_2_paying_source10['uid'].isin(paying_2017_3['uid']).value_counts()[True] / new_2017_2_paying_source10['uid'].shape[0] * 100),\n",
    "    (0 if True not in new_2017_2_paying_source10['uid'].isin(paying_2017_4['uid']).value_counts().index.values else new_2017_2_paying_source10['uid'].isin(paying_2017_4['uid']).value_counts()[True] / new_2017_2_paying_source10['uid'].shape[0] * 100),\n",
    "    (0 if True not in new_2017_2_paying_source10['uid'].isin(paying_2017_5['uid']).value_counts().index.values else new_2017_2_paying_source10['uid'].isin(paying_2017_5['uid']).value_counts()[True] / new_2017_2_paying_source10['uid'].shape[0] * 100)],\n",
    "\n",
    "    [(0 if True not in new_2017_3_paying_source10['uid'].isin(paying_2017_3['uid']).value_counts().index.values else new_2017_3_paying_source10['uid'].isin(paying_2017_3['uid']).value_counts()[True] / new_2017_3_paying_source10['uid'].shape[0] * 100),\n",
    "    (0 if True not in new_2017_3_paying_source10['uid'].isin(paying_2017_4['uid']).value_counts().index.values else new_2017_3_paying_source10['uid'].isin(paying_2017_4['uid']).value_counts()[True] / new_2017_3_paying_source10['uid'].shape[0] * 100),\n",
    "    (0 if True not in new_2017_3_paying_source10['uid'].isin(paying_2017_5['uid']).value_counts().index.values else new_2017_3_paying_source10['uid'].isin(paying_2017_5['uid']).value_counts()[True] / new_2017_3_paying_source10['uid'].shape[0] * 100)],\n",
    "\n",
    "    [(0 if True not in new_2017_4_paying_source10['uid'].isin(paying_2017_4['uid']).value_counts().index.values else new_2017_4_paying_source10['uid'].isin(paying_2017_4['uid']).value_counts()[True] / new_2017_4_paying_source10['uid'].shape[0] * 100),\n",
    "    (0 if True not in new_2017_4_paying_source10['uid'].isin(paying_2017_5['uid']).value_counts().index.values else new_2017_4_paying_source10['uid'].isin(paying_2017_5['uid']).value_counts()[True] / new_2017_4_paying_source10['uid'].shape[0] * 100)]\n",
    "\n",
    "],\n",
    "columns=['2017_1', '2017_2', '2017_3', '2017_4', '2017_5',],\n",
    "index=['2017_1_source10', '2017_2_source10', '2017_3_source10', '2017_4_source10']);\n",
    "renetion_2017_source10"
   ]
  },
  {
   "cell_type": "code",
   "execution_count": 103,
   "metadata": {},
   "outputs": [
    {
     "data": {
      "image/png": "[encoded data removed]",
      "text/plain": [
       "<matplotlib.figure.Figure at 0x1a26040940>"
      ]
     },
     "metadata": {},
     "output_type": "display_data"
    }
   ],
   "source": [
    "renetion_2017_source10.T.plot();"
   ]
  },
  {
   "cell_type": "markdown",
   "metadata": {},
   "source": [
    "# RFM"
   ]
  },
  {
   "cell_type": "markdown",
   "metadata": {},
   "source": [
    "Помимо расчета вышеописанных метрик, возможно разбить пользователей на RFM сегменты, а затем отнести каждого пользователя к первому источника перехода. Таким образом, можно посмотреть какой источник приносит наиболее выгодных с точки зрения RFM-сегментации клиентов."
   ]
  },
  {
   "cell_type": "markdown",
   "metadata": {},
   "source": [
    "Для расчетов возьмем только пользователей, пришедших в 2017 году."
   ]
  },
  {
   "cell_type": "code",
   "execution_count": 104,
   "metadata": {
    "collapsed": true
   },
   "outputs": [],
   "source": [
    "df_rfm = df_new_users_2017[df_new_users_2017['is_conversion'] == 1]"
   ]
  },
  {
   "cell_type": "markdown",
   "metadata": {},
   "source": [
    "В качестве даты снятия отчета возьмем 2017-06-01"
   ]
  },
  {
   "cell_type": "code",
   "execution_count": 105,
   "metadata": {},
   "outputs": [
    {
     "name": "stdout",
     "output_type": "stream",
     "text": [
      "2017-06-01\n"
     ]
    }
   ],
   "source": [
    "now = dt.date(2017,6,1)\n",
    "print(now)"
   ]
  },
  {
   "cell_type": "markdown",
   "metadata": {},
   "source": [
    "### Recency"
   ]
  },
  {
   "cell_type": "code",
   "execution_count": 106,
   "metadata": {
    "collapsed": true
   },
   "outputs": [],
   "source": [
    "recency_df = df_rfm.groupby('uid')[['buy_dt']].max().reset_index()\n",
    "recency_df.columns = ['uid','LastPurshaceDate']"
   ]
  },
  {
   "cell_type": "code",
   "execution_count": 107,
   "metadata": {
    "collapsed": true
   },
   "outputs": [],
   "source": [
    "recency_df['LastPurshaceDate'] = pd.to_datetime(recency_df['LastPurshaceDate'])\n",
    "recency_df['LastPurshaceDate'] = recency_df['LastPurshaceDate'].apply(lambda x: x.date())"
   ]
  },
  {
   "cell_type": "code",
   "execution_count": 108,
   "metadata": {
    "collapsed": true
   },
   "outputs": [],
   "source": [
    "#рассчитаем recency\n",
    "recency_df['recency'] = recency_df['LastPurshaceDate'].apply(lambda x: (now - x).days)"
   ]
  },
  {
   "cell_type": "code",
   "execution_count": 109,
   "metadata": {
    "collapsed": true
   },
   "outputs": [],
   "source": [
    "recency_df.drop('LastPurshaceDate',axis=1,inplace=True)"
   ]
  },
  {
   "cell_type": "code",
   "execution_count": 110,
   "metadata": {},
   "outputs": [
    {
     "data": {
      "text/html": [
       "<div>\n",
       "<style scoped>\n",
       "    .dataframe tbody tr th:only-of-type {\n",
       "        vertical-align: middle;\n",
       "    }\n",
       "\n",
       "    .dataframe tbody tr th {\n",
       "        vertical-align: top;\n",
       "    }\n",
       "\n",
       "    .dataframe thead th {\n",
       "        text-align: right;\n",
       "    }\n",
       "</style>\n",
       "<table border=\"1\" class=\"dataframe\">\n",
       "  <thead>\n",
       "    <tr style=\"text-align: right;\">\n",
       "      <th></th>\n",
       "      <th>uid</th>\n",
       "      <th>recency</th>\n",
       "    </tr>\n",
       "  </thead>\n",
       "  <tbody>\n",
       "    <tr>\n",
       "      <th>0</th>\n",
       "      <td>352142</td>\n",
       "      <td>104</td>\n",
       "    </tr>\n",
       "    <tr>\n",
       "      <th>1</th>\n",
       "      <td>510576</td>\n",
       "      <td>123</td>\n",
       "    </tr>\n",
       "    <tr>\n",
       "      <th>2</th>\n",
       "      <td>531117</td>\n",
       "      <td>75</td>\n",
       "    </tr>\n",
       "    <tr>\n",
       "      <th>3</th>\n",
       "      <td>1506197</td>\n",
       "      <td>65</td>\n",
       "    </tr>\n",
       "    <tr>\n",
       "      <th>4</th>\n",
       "      <td>1751328</td>\n",
       "      <td>81</td>\n",
       "    </tr>\n",
       "  </tbody>\n",
       "</table>\n",
       "</div>"
      ],
      "text/plain": [
       "       uid  recency\n",
       "0   352142      104\n",
       "1   510576      123\n",
       "2   531117       75\n",
       "3  1506197       65\n",
       "4  1751328       81"
      ]
     },
     "execution_count": 110,
     "metadata": {},
     "output_type": "execute_result"
    }
   ],
   "source": [
    "recency_df.head()"
   ]
  },
  {
   "cell_type": "markdown",
   "metadata": {},
   "source": [
    "### Frequency"
   ]
  },
  {
   "cell_type": "code",
   "execution_count": 111,
   "metadata": {},
   "outputs": [
    {
     "data": {
      "text/html": [
       "<div>\n",
       "<style scoped>\n",
       "    .dataframe tbody tr th:only-of-type {\n",
       "        vertical-align: middle;\n",
       "    }\n",
       "\n",
       "    .dataframe tbody tr th {\n",
       "        vertical-align: top;\n",
       "    }\n",
       "\n",
       "    .dataframe thead th {\n",
       "        text-align: right;\n",
       "    }\n",
       "</style>\n",
       "<table border=\"1\" class=\"dataframe\">\n",
       "  <thead>\n",
       "    <tr style=\"text-align: right;\">\n",
       "      <th></th>\n",
       "      <th>uid</th>\n",
       "      <th>frequency</th>\n",
       "    </tr>\n",
       "  </thead>\n",
       "  <tbody>\n",
       "    <tr>\n",
       "      <th>0</th>\n",
       "      <td>352142</td>\n",
       "      <td>1</td>\n",
       "    </tr>\n",
       "    <tr>\n",
       "      <th>1</th>\n",
       "      <td>510576</td>\n",
       "      <td>1</td>\n",
       "    </tr>\n",
       "    <tr>\n",
       "      <th>2</th>\n",
       "      <td>531117</td>\n",
       "      <td>1</td>\n",
       "    </tr>\n",
       "    <tr>\n",
       "      <th>3</th>\n",
       "      <td>1506197</td>\n",
       "      <td>1</td>\n",
       "    </tr>\n",
       "    <tr>\n",
       "      <th>4</th>\n",
       "      <td>1751328</td>\n",
       "      <td>1</td>\n",
       "    </tr>\n",
       "  </tbody>\n",
       "</table>\n",
       "</div>"
      ],
      "text/plain": [
       "       uid  frequency\n",
       "0   352142          1\n",
       "1   510576          1\n",
       "2   531117          1\n",
       "3  1506197          1\n",
       "4  1751328          1"
      ]
     },
     "execution_count": 111,
     "metadata": {},
     "output_type": "execute_result"
    }
   ],
   "source": [
    "frequency_df = df_rfm.groupby('uid')[['buy_ts']].count().reset_index()\n",
    "frequency_df.columns = ['uid','frequency']\n",
    "frequency_df.head()"
   ]
  },
  {
   "cell_type": "markdown",
   "metadata": {},
   "source": [
    "### Monetary"
   ]
  },
  {
   "cell_type": "code",
   "execution_count": 112,
   "metadata": {},
   "outputs": [
    {
     "data": {
      "text/html": [
       "<div>\n",
       "<style scoped>\n",
       "    .dataframe tbody tr th:only-of-type {\n",
       "        vertical-align: middle;\n",
       "    }\n",
       "\n",
       "    .dataframe tbody tr th {\n",
       "        vertical-align: top;\n",
       "    }\n",
       "\n",
       "    .dataframe thead th {\n",
       "        text-align: right;\n",
       "    }\n",
       "</style>\n",
       "<table border=\"1\" class=\"dataframe\">\n",
       "  <thead>\n",
       "    <tr style=\"text-align: right;\">\n",
       "      <th></th>\n",
       "      <th>uid</th>\n",
       "      <th>monetary</th>\n",
       "    </tr>\n",
       "  </thead>\n",
       "  <tbody>\n",
       "    <tr>\n",
       "      <th>0</th>\n",
       "      <td>352142</td>\n",
       "      <td>1.59</td>\n",
       "    </tr>\n",
       "    <tr>\n",
       "      <th>1</th>\n",
       "      <td>510576</td>\n",
       "      <td>1.10</td>\n",
       "    </tr>\n",
       "    <tr>\n",
       "      <th>2</th>\n",
       "      <td>531117</td>\n",
       "      <td>1.71</td>\n",
       "    </tr>\n",
       "    <tr>\n",
       "      <th>3</th>\n",
       "      <td>1506197</td>\n",
       "      <td>0.92</td>\n",
       "    </tr>\n",
       "    <tr>\n",
       "      <th>4</th>\n",
       "      <td>1751328</td>\n",
       "      <td>9.33</td>\n",
       "    </tr>\n",
       "  </tbody>\n",
       "</table>\n",
       "</div>"
      ],
      "text/plain": [
       "       uid  monetary\n",
       "0   352142      1.59\n",
       "1   510576      1.10\n",
       "2   531117      1.71\n",
       "3  1506197      0.92\n",
       "4  1751328      9.33"
      ]
     },
     "execution_count": 112,
     "metadata": {},
     "output_type": "execute_result"
    }
   ],
   "source": [
    "monetary_df = df_rfm.groupby('uid').agg({'revenue_distributed': 'sum'}).reset_index()\n",
    "monetary_df.columns = ['uid','monetary']\n",
    "monetary_df.head()"
   ]
  },
  {
   "cell_type": "markdown",
   "metadata": {},
   "source": [
    "Создалим общую таблицу RFM"
   ]
  },
  {
   "cell_type": "code",
   "execution_count": 113,
   "metadata": {
    "collapsed": true
   },
   "outputs": [],
   "source": [
    "rfm = recency_df.join(frequency_df.set_index('uid'), on='uid').join(monetary_df.set_index('uid'), on='uid').set_index('uid')"
   ]
  },
  {
   "cell_type": "code",
   "execution_count": 114,
   "metadata": {},
   "outputs": [
    {
     "data": {
      "text/html": [
       "<div>\n",
       "<style scoped>\n",
       "    .dataframe tbody tr th:only-of-type {\n",
       "        vertical-align: middle;\n",
       "    }\n",
       "\n",
       "    .dataframe tbody tr th {\n",
       "        vertical-align: top;\n",
       "    }\n",
       "\n",
       "    .dataframe thead th {\n",
       "        text-align: right;\n",
       "    }\n",
       "</style>\n",
       "<table border=\"1\" class=\"dataframe\">\n",
       "  <thead>\n",
       "    <tr style=\"text-align: right;\">\n",
       "      <th></th>\n",
       "      <th>recency</th>\n",
       "      <th>frequency</th>\n",
       "      <th>monetary</th>\n",
       "    </tr>\n",
       "    <tr>\n",
       "      <th>uid</th>\n",
       "      <th></th>\n",
       "      <th></th>\n",
       "      <th></th>\n",
       "    </tr>\n",
       "  </thead>\n",
       "  <tbody>\n",
       "    <tr>\n",
       "      <th>352142</th>\n",
       "      <td>104</td>\n",
       "      <td>1</td>\n",
       "      <td>1.59</td>\n",
       "    </tr>\n",
       "    <tr>\n",
       "      <th>510576</th>\n",
       "      <td>123</td>\n",
       "      <td>1</td>\n",
       "      <td>1.10</td>\n",
       "    </tr>\n",
       "    <tr>\n",
       "      <th>531117</th>\n",
       "      <td>75</td>\n",
       "      <td>1</td>\n",
       "      <td>1.71</td>\n",
       "    </tr>\n",
       "    <tr>\n",
       "      <th>1506197</th>\n",
       "      <td>65</td>\n",
       "      <td>1</td>\n",
       "      <td>0.92</td>\n",
       "    </tr>\n",
       "    <tr>\n",
       "      <th>1751328</th>\n",
       "      <td>81</td>\n",
       "      <td>1</td>\n",
       "      <td>9.33</td>\n",
       "    </tr>\n",
       "  </tbody>\n",
       "</table>\n",
       "</div>"
      ],
      "text/plain": [
       "         recency  frequency  monetary\n",
       "uid                                  \n",
       "352142       104          1      1.59\n",
       "510576       123          1      1.10\n",
       "531117        75          1      1.71\n",
       "1506197       65          1      0.92\n",
       "1751328       81          1      9.33"
      ]
     },
     "execution_count": 114,
     "metadata": {},
     "output_type": "execute_result"
    }
   ],
   "source": [
    "rfm.head()"
   ]
  },
  {
   "cell_type": "markdown",
   "metadata": {},
   "source": [
    "Классифицируем клиентов в соответствии с их RFM-портретом, используя квантили по каждому показателю"
   ]
  },
  {
   "cell_type": "code",
   "execution_count": 115,
   "metadata": {},
   "outputs": [
    {
     "data": {
      "text/html": [
       "<div>\n",
       "<style scoped>\n",
       "    .dataframe tbody tr th:only-of-type {\n",
       "        vertical-align: middle;\n",
       "    }\n",
       "\n",
       "    .dataframe tbody tr th {\n",
       "        vertical-align: top;\n",
       "    }\n",
       "\n",
       "    .dataframe thead th {\n",
       "        text-align: right;\n",
       "    }\n",
       "</style>\n",
       "<table border=\"1\" class=\"dataframe\">\n",
       "  <thead>\n",
       "    <tr style=\"text-align: right;\">\n",
       "      <th></th>\n",
       "      <th>recency</th>\n",
       "      <th>frequency</th>\n",
       "      <th>monetary</th>\n",
       "    </tr>\n",
       "  </thead>\n",
       "  <tbody>\n",
       "    <tr>\n",
       "      <th>0.25</th>\n",
       "      <td>39.0</td>\n",
       "      <td>1.0</td>\n",
       "      <td>1.3275</td>\n",
       "    </tr>\n",
       "    <tr>\n",
       "      <th>0.50</th>\n",
       "      <td>83.0</td>\n",
       "      <td>1.0</td>\n",
       "      <td>2.7500</td>\n",
       "    </tr>\n",
       "    <tr>\n",
       "      <th>0.75</th>\n",
       "      <td>113.0</td>\n",
       "      <td>1.0</td>\n",
       "      <td>4.8900</td>\n",
       "    </tr>\n",
       "  </tbody>\n",
       "</table>\n",
       "</div>"
      ],
      "text/plain": [
       "      recency  frequency  monetary\n",
       "0.25     39.0        1.0    1.3275\n",
       "0.50     83.0        1.0    2.7500\n",
       "0.75    113.0        1.0    4.8900"
      ]
     },
     "execution_count": 115,
     "metadata": {},
     "output_type": "execute_result"
    }
   ],
   "source": [
    "quantiles = rfm.quantile(q=[.25,.5,.75])\n",
    "quantiles"
   ]
  },
  {
   "cell_type": "markdown",
   "metadata": {},
   "source": [
    "Отмечаем, что показатель <b>frequency</b> не очень репрезентативен, так как порядка 90% пользователей имели только одну покупку. Уберем его из отчета"
   ]
  },
  {
   "cell_type": "code",
   "execution_count": 116,
   "metadata": {},
   "outputs": [
    {
     "data": {
      "text/plain": [
       "1      89.84\n",
       "2       8.36\n",
       "3       1.16\n",
       "4       0.26\n",
       "5       0.13\n",
       "6       0.04\n",
       "11      0.03\n",
       "8       0.02\n",
       "12      0.02\n",
       "9       0.02\n",
       "22      0.01\n",
       "34      0.01\n",
       "18      0.01\n",
       "16      0.01\n",
       "7       0.01\n",
       "10      0.01\n",
       "17      0.01\n",
       "50      0.01\n",
       "33      0.01\n",
       "193     0.01\n",
       "46      0.01\n",
       "82      0.01\n",
       "19      0.01\n",
       "29      0.01\n",
       "38      0.01\n",
       "23      0.01\n",
       "24      0.01\n",
       "26      0.01\n",
       "42      0.01\n",
       "85      0.01\n",
       "Name: frequency, dtype: float64"
      ]
     },
     "execution_count": 116,
     "metadata": {},
     "output_type": "execute_result"
    }
   ],
   "source": [
    "(rfm['frequency'].value_counts(normalize=True) * 100).round(2)"
   ]
  },
  {
   "cell_type": "code",
   "execution_count": 117,
   "metadata": {
    "collapsed": true
   },
   "outputs": [],
   "source": [
    "def RScore(x,p,d):\n",
    "    if x <= d[p][0.25]:\n",
    "        return 4\n",
    "    elif x <= d[p][0.50]:\n",
    "        return 3\n",
    "    elif x <= d[p][0.75]: \n",
    "        return 2\n",
    "    else:\n",
    "        return 1\n",
    "\n",
    "def MScore(x,p,d):\n",
    "    if x <= d[p][0.25]:\n",
    "        return 1\n",
    "    elif x <= d[p][0.50]:\n",
    "        return 2\n",
    "    elif x <= d[p][0.75]: \n",
    "        return 3\n",
    "    else:\n",
    "        return 4"
   ]
  },
  {
   "cell_type": "code",
   "execution_count": 118,
   "metadata": {
    "collapsed": true
   },
   "outputs": [],
   "source": [
    "rfm['r_quantile'] = rfm['recency'].apply(RScore, args=('recency',quantiles,))\n",
    "rfm['m_quantile'] = rfm['monetary'].apply(MScore, args=('monetary',quantiles,))"
   ]
  },
  {
   "cell_type": "code",
   "execution_count": 119,
   "metadata": {},
   "outputs": [
    {
     "data": {
      "text/html": [
       "<div>\n",
       "<style scoped>\n",
       "    .dataframe tbody tr th:only-of-type {\n",
       "        vertical-align: middle;\n",
       "    }\n",
       "\n",
       "    .dataframe tbody tr th {\n",
       "        vertical-align: top;\n",
       "    }\n",
       "\n",
       "    .dataframe thead th {\n",
       "        text-align: right;\n",
       "    }\n",
       "</style>\n",
       "<table border=\"1\" class=\"dataframe\">\n",
       "  <thead>\n",
       "    <tr style=\"text-align: right;\">\n",
       "      <th></th>\n",
       "      <th>recency</th>\n",
       "      <th>frequency</th>\n",
       "      <th>monetary</th>\n",
       "      <th>r_quantile</th>\n",
       "      <th>m_quantile</th>\n",
       "    </tr>\n",
       "    <tr>\n",
       "      <th>uid</th>\n",
       "      <th></th>\n",
       "      <th></th>\n",
       "      <th></th>\n",
       "      <th></th>\n",
       "      <th></th>\n",
       "    </tr>\n",
       "  </thead>\n",
       "  <tbody>\n",
       "    <tr>\n",
       "      <th>352142</th>\n",
       "      <td>104</td>\n",
       "      <td>1</td>\n",
       "      <td>1.59</td>\n",
       "      <td>2</td>\n",
       "      <td>2</td>\n",
       "    </tr>\n",
       "    <tr>\n",
       "      <th>510576</th>\n",
       "      <td>123</td>\n",
       "      <td>1</td>\n",
       "      <td>1.10</td>\n",
       "      <td>1</td>\n",
       "      <td>1</td>\n",
       "    </tr>\n",
       "    <tr>\n",
       "      <th>531117</th>\n",
       "      <td>75</td>\n",
       "      <td>1</td>\n",
       "      <td>1.71</td>\n",
       "      <td>3</td>\n",
       "      <td>2</td>\n",
       "    </tr>\n",
       "    <tr>\n",
       "      <th>1506197</th>\n",
       "      <td>65</td>\n",
       "      <td>1</td>\n",
       "      <td>0.92</td>\n",
       "      <td>3</td>\n",
       "      <td>1</td>\n",
       "    </tr>\n",
       "    <tr>\n",
       "      <th>1751328</th>\n",
       "      <td>81</td>\n",
       "      <td>1</td>\n",
       "      <td>9.33</td>\n",
       "      <td>3</td>\n",
       "      <td>4</td>\n",
       "    </tr>\n",
       "  </tbody>\n",
       "</table>\n",
       "</div>"
      ],
      "text/plain": [
       "         recency  frequency  monetary  r_quantile  m_quantile\n",
       "uid                                                          \n",
       "352142       104          1      1.59           2           2\n",
       "510576       123          1      1.10           1           1\n",
       "531117        75          1      1.71           3           2\n",
       "1506197       65          1      0.92           3           1\n",
       "1751328       81          1      9.33           3           4"
      ]
     },
     "execution_count": 119,
     "metadata": {},
     "output_type": "execute_result"
    }
   ],
   "source": [
    "rfm.head()"
   ]
  },
  {
   "cell_type": "code",
   "execution_count": 120,
   "metadata": {
    "collapsed": true
   },
   "outputs": [],
   "source": [
    "rfm = rfm.join(fir_inter2017[['uid', 'source_id']].set_index('uid'), on='uid')"
   ]
  },
  {
   "cell_type": "code",
   "execution_count": 121,
   "metadata": {
    "collapsed": true
   },
   "outputs": [],
   "source": [
    "monetary_results = rfm[rfm['m_quantile'] == 4].groupby('source_id')[['m_quantile']].count()\\\n",
    "    .rename(index=str, columns={'m_quantile': 'm4'}).join(\n",
    "rfm[rfm['m_quantile'] == 3].groupby('source_id')[['m_quantile']].count()\\\n",
    "    .rename(index=str, columns={'m_quantile': 'm3'}), on='source_id'\n",
    "    ).join(\n",
    "rfm[rfm['m_quantile'] == 2].groupby('source_id')[['m_quantile']].count()\\\n",
    "    .rename(index=str, columns={'m_quantile': 'm2'}), on='source_id'\n",
    "    ).join(\n",
    "rfm[rfm['m_quantile'] == 1].groupby('source_id')[['m_quantile']].count()\\\n",
    "    .rename(index=str, columns={'m_quantile': 'm1'}), on='source_id'\n",
    "    )#.plot(kind='bar', stacked=True);"
   ]
  },
  {
   "cell_type": "code",
   "execution_count": 122,
   "metadata": {},
   "outputs": [
    {
     "data": {
      "text/html": [
       "<div>\n",
       "<style scoped>\n",
       "    .dataframe tbody tr th:only-of-type {\n",
       "        vertical-align: middle;\n",
       "    }\n",
       "\n",
       "    .dataframe tbody tr th {\n",
       "        vertical-align: top;\n",
       "    }\n",
       "\n",
       "    .dataframe thead th {\n",
       "        text-align: right;\n",
       "    }\n",
       "</style>\n",
       "<table border=\"1\" class=\"dataframe\">\n",
       "  <thead>\n",
       "    <tr style=\"text-align: right;\">\n",
       "      <th></th>\n",
       "      <th>m4</th>\n",
       "      <th>m3</th>\n",
       "      <th>m2</th>\n",
       "      <th>m1</th>\n",
       "    </tr>\n",
       "    <tr>\n",
       "      <th>source_id</th>\n",
       "      <th></th>\n",
       "      <th></th>\n",
       "      <th></th>\n",
       "      <th></th>\n",
       "    </tr>\n",
       "  </thead>\n",
       "  <tbody>\n",
       "    <tr>\n",
       "      <th>1</th>\n",
       "      <td>253</td>\n",
       "      <td>243</td>\n",
       "      <td>253</td>\n",
       "      <td>222</td>\n",
       "    </tr>\n",
       "    <tr>\n",
       "      <th>2</th>\n",
       "      <td>506</td>\n",
       "      <td>367</td>\n",
       "      <td>377</td>\n",
       "      <td>348</td>\n",
       "    </tr>\n",
       "    <tr>\n",
       "      <th>3</th>\n",
       "      <td>1359</td>\n",
       "      <td>1559</td>\n",
       "      <td>1610</td>\n",
       "      <td>1687</td>\n",
       "    </tr>\n",
       "    <tr>\n",
       "      <th>4</th>\n",
       "      <td>1588</td>\n",
       "      <td>1697</td>\n",
       "      <td>1635</td>\n",
       "      <td>1458</td>\n",
       "    </tr>\n",
       "    <tr>\n",
       "      <th>5</th>\n",
       "      <td>790</td>\n",
       "      <td>817</td>\n",
       "      <td>877</td>\n",
       "      <td>735</td>\n",
       "    </tr>\n",
       "    <tr>\n",
       "      <th>9</th>\n",
       "      <td>60</td>\n",
       "      <td>68</td>\n",
       "      <td>103</td>\n",
       "      <td>113</td>\n",
       "    </tr>\n",
       "    <tr>\n",
       "      <th>10</th>\n",
       "      <td>154</td>\n",
       "      <td>168</td>\n",
       "      <td>258</td>\n",
       "      <td>351</td>\n",
       "    </tr>\n",
       "  </tbody>\n",
       "</table>\n",
       "</div>"
      ],
      "text/plain": [
       "             m4    m3    m2    m1\n",
       "source_id                        \n",
       "1           253   243   253   222\n",
       "2           506   367   377   348\n",
       "3          1359  1559  1610  1687\n",
       "4          1588  1697  1635  1458\n",
       "5           790   817   877   735\n",
       "9            60    68   103   113\n",
       "10          154   168   258   351"
      ]
     },
     "execution_count": 122,
     "metadata": {},
     "output_type": "execute_result"
    }
   ],
   "source": [
    "monetary_results"
   ]
  },
  {
   "cell_type": "code",
   "execution_count": 123,
   "metadata": {},
   "outputs": [
    {
     "data": {
      "text/html": [
       "<div>\n",
       "<style scoped>\n",
       "    .dataframe tbody tr th:only-of-type {\n",
       "        vertical-align: middle;\n",
       "    }\n",
       "\n",
       "    .dataframe tbody tr th {\n",
       "        vertical-align: top;\n",
       "    }\n",
       "\n",
       "    .dataframe thead th {\n",
       "        text-align: right;\n",
       "    }\n",
       "</style>\n",
       "<table border=\"1\" class=\"dataframe\">\n",
       "  <thead>\n",
       "    <tr style=\"text-align: right;\">\n",
       "      <th></th>\n",
       "      <th>m4</th>\n",
       "      <th>m3</th>\n",
       "      <th>m2</th>\n",
       "      <th>m1</th>\n",
       "    </tr>\n",
       "    <tr>\n",
       "      <th>source_id</th>\n",
       "      <th></th>\n",
       "      <th></th>\n",
       "      <th></th>\n",
       "      <th></th>\n",
       "    </tr>\n",
       "  </thead>\n",
       "  <tbody>\n",
       "    <tr>\n",
       "      <th>1</th>\n",
       "      <td>26.06</td>\n",
       "      <td>25.03</td>\n",
       "      <td>26.06</td>\n",
       "      <td>22.86</td>\n",
       "    </tr>\n",
       "    <tr>\n",
       "      <th>2</th>\n",
       "      <td>31.66</td>\n",
       "      <td>22.97</td>\n",
       "      <td>23.59</td>\n",
       "      <td>21.78</td>\n",
       "    </tr>\n",
       "    <tr>\n",
       "      <th>3</th>\n",
       "      <td>21.87</td>\n",
       "      <td>25.08</td>\n",
       "      <td>25.91</td>\n",
       "      <td>27.14</td>\n",
       "    </tr>\n",
       "    <tr>\n",
       "      <th>4</th>\n",
       "      <td>24.90</td>\n",
       "      <td>26.61</td>\n",
       "      <td>25.63</td>\n",
       "      <td>22.86</td>\n",
       "    </tr>\n",
       "    <tr>\n",
       "      <th>5</th>\n",
       "      <td>24.54</td>\n",
       "      <td>25.38</td>\n",
       "      <td>27.24</td>\n",
       "      <td>22.83</td>\n",
       "    </tr>\n",
       "    <tr>\n",
       "      <th>9</th>\n",
       "      <td>17.44</td>\n",
       "      <td>19.77</td>\n",
       "      <td>29.94</td>\n",
       "      <td>32.85</td>\n",
       "    </tr>\n",
       "    <tr>\n",
       "      <th>10</th>\n",
       "      <td>16.54</td>\n",
       "      <td>18.05</td>\n",
       "      <td>27.71</td>\n",
       "      <td>37.70</td>\n",
       "    </tr>\n",
       "  </tbody>\n",
       "</table>\n",
       "</div>"
      ],
      "text/plain": [
       "              m4     m3     m2     m1\n",
       "source_id                            \n",
       "1          26.06  25.03  26.06  22.86\n",
       "2          31.66  22.97  23.59  21.78\n",
       "3          21.87  25.08  25.91  27.14\n",
       "4          24.90  26.61  25.63  22.86\n",
       "5          24.54  25.38  27.24  22.83\n",
       "9          17.44  19.77  29.94  32.85\n",
       "10         16.54  18.05  27.71  37.70"
      ]
     },
     "execution_count": 123,
     "metadata": {},
     "output_type": "execute_result"
    }
   ],
   "source": [
    "(monetary_results.apply(lambda r: r/r.sum(), axis=1) * 100).round(2)"
   ]
  },
  {
   "cell_type": "code",
   "execution_count": 124,
   "metadata": {},
   "outputs": [
    {
     "data": {
      "image/png": "[encoded data removed]",
      "text/plain": [
       "<matplotlib.figure.Figure at 0x1a116b6ac8>"
      ]
     },
     "metadata": {},
     "output_type": "display_data"
    }
   ],
   "source": [
    "ax = (monetary_results.apply(lambda r: r/r.sum(), axis=1) * 100).round(2).plot(kind='bar', stacked=True);\n",
    "\n",
    "horiz_offset = 1.03\n",
    "vert_offset = 1.\n",
    "ax.legend(bbox_to_anchor=(horiz_offset, vert_offset));"
   ]
  },
  {
   "cell_type": "code",
   "execution_count": 125,
   "metadata": {
    "collapsed": true
   },
   "outputs": [],
   "source": [
    "recency_results = rfm[rfm['r_quantile'] == 4].groupby('source_id')[['r_quantile']].count()\\\n",
    "    .rename(index=str, columns={'r_quantile': 'r4'}).join(\n",
    "rfm[rfm['r_quantile'] == 3].groupby('source_id')[['r_quantile']].count()\\\n",
    "    .rename(index=str, columns={'r_quantile': 'r3'}), on='source_id'\n",
    "    ).join(\n",
    "rfm[rfm['r_quantile'] == 2].groupby('source_id')[['r_quantile']].count()\\\n",
    "    .rename(index=str, columns={'r_quantile': 'r2'}), on='source_id'\n",
    "    ).join(\n",
    "rfm[rfm['r_quantile'] == 1].groupby('source_id')[['r_quantile']].count()\\\n",
    "    .rename(index=str, columns={'r_quantile': 'r1'}), on='source_id'\n",
    "    )#.plot(kind='bar', stacked=True);"
   ]
  },
  {
   "cell_type": "code",
   "execution_count": 126,
   "metadata": {},
   "outputs": [
    {
     "data": {
      "text/html": [
       "<div>\n",
       "<style scoped>\n",
       "    .dataframe tbody tr th:only-of-type {\n",
       "        vertical-align: middle;\n",
       "    }\n",
       "\n",
       "    .dataframe tbody tr th {\n",
       "        vertical-align: top;\n",
       "    }\n",
       "\n",
       "    .dataframe thead th {\n",
       "        text-align: right;\n",
       "    }\n",
       "</style>\n",
       "<table border=\"1\" class=\"dataframe\">\n",
       "  <thead>\n",
       "    <tr style=\"text-align: right;\">\n",
       "      <th></th>\n",
       "      <th>r4</th>\n",
       "      <th>r3</th>\n",
       "      <th>r2</th>\n",
       "      <th>r1</th>\n",
       "    </tr>\n",
       "    <tr>\n",
       "      <th>source_id</th>\n",
       "      <th></th>\n",
       "      <th></th>\n",
       "      <th></th>\n",
       "      <th></th>\n",
       "    </tr>\n",
       "  </thead>\n",
       "  <tbody>\n",
       "    <tr>\n",
       "      <th>1</th>\n",
       "      <td>279</td>\n",
       "      <td>251</td>\n",
       "      <td>202</td>\n",
       "      <td>239</td>\n",
       "    </tr>\n",
       "    <tr>\n",
       "      <th>2</th>\n",
       "      <td>608</td>\n",
       "      <td>373</td>\n",
       "      <td>323</td>\n",
       "      <td>294</td>\n",
       "    </tr>\n",
       "    <tr>\n",
       "      <th>3</th>\n",
       "      <td>1462</td>\n",
       "      <td>1514</td>\n",
       "      <td>1600</td>\n",
       "      <td>1639</td>\n",
       "    </tr>\n",
       "    <tr>\n",
       "      <th>4</th>\n",
       "      <td>1440</td>\n",
       "      <td>1658</td>\n",
       "      <td>1698</td>\n",
       "      <td>1582</td>\n",
       "    </tr>\n",
       "    <tr>\n",
       "      <th>5</th>\n",
       "      <td>833</td>\n",
       "      <td>752</td>\n",
       "      <td>751</td>\n",
       "      <td>883</td>\n",
       "    </tr>\n",
       "    <tr>\n",
       "      <th>9</th>\n",
       "      <td>72</td>\n",
       "      <td>140</td>\n",
       "      <td>79</td>\n",
       "      <td>53</td>\n",
       "    </tr>\n",
       "    <tr>\n",
       "      <th>10</th>\n",
       "      <td>234</td>\n",
       "      <td>315</td>\n",
       "      <td>207</td>\n",
       "      <td>175</td>\n",
       "    </tr>\n",
       "  </tbody>\n",
       "</table>\n",
       "</div>"
      ],
      "text/plain": [
       "             r4    r3    r2    r1\n",
       "source_id                        \n",
       "1           279   251   202   239\n",
       "2           608   373   323   294\n",
       "3          1462  1514  1600  1639\n",
       "4          1440  1658  1698  1582\n",
       "5           833   752   751   883\n",
       "9            72   140    79    53\n",
       "10          234   315   207   175"
      ]
     },
     "execution_count": 126,
     "metadata": {},
     "output_type": "execute_result"
    }
   ],
   "source": [
    "recency_results"
   ]
  },
  {
   "cell_type": "code",
   "execution_count": 127,
   "metadata": {},
   "outputs": [
    {
     "data": {
      "text/html": [
       "<div>\n",
       "<style scoped>\n",
       "    .dataframe tbody tr th:only-of-type {\n",
       "        vertical-align: middle;\n",
       "    }\n",
       "\n",
       "    .dataframe tbody tr th {\n",
       "        vertical-align: top;\n",
       "    }\n",
       "\n",
       "    .dataframe thead th {\n",
       "        text-align: right;\n",
       "    }\n",
       "</style>\n",
       "<table border=\"1\" class=\"dataframe\">\n",
       "  <thead>\n",
       "    <tr style=\"text-align: right;\">\n",
       "      <th></th>\n",
       "      <th>r4</th>\n",
       "      <th>r3</th>\n",
       "      <th>r2</th>\n",
       "      <th>r1</th>\n",
       "    </tr>\n",
       "    <tr>\n",
       "      <th>source_id</th>\n",
       "      <th></th>\n",
       "      <th></th>\n",
       "      <th></th>\n",
       "      <th></th>\n",
       "    </tr>\n",
       "  </thead>\n",
       "  <tbody>\n",
       "    <tr>\n",
       "      <th>1</th>\n",
       "      <td>28.73</td>\n",
       "      <td>25.85</td>\n",
       "      <td>20.80</td>\n",
       "      <td>24.61</td>\n",
       "    </tr>\n",
       "    <tr>\n",
       "      <th>2</th>\n",
       "      <td>38.05</td>\n",
       "      <td>23.34</td>\n",
       "      <td>20.21</td>\n",
       "      <td>18.40</td>\n",
       "    </tr>\n",
       "    <tr>\n",
       "      <th>3</th>\n",
       "      <td>23.52</td>\n",
       "      <td>24.36</td>\n",
       "      <td>25.74</td>\n",
       "      <td>26.37</td>\n",
       "    </tr>\n",
       "    <tr>\n",
       "      <th>4</th>\n",
       "      <td>22.58</td>\n",
       "      <td>26.00</td>\n",
       "      <td>26.62</td>\n",
       "      <td>24.80</td>\n",
       "    </tr>\n",
       "    <tr>\n",
       "      <th>5</th>\n",
       "      <td>25.88</td>\n",
       "      <td>23.36</td>\n",
       "      <td>23.33</td>\n",
       "      <td>27.43</td>\n",
       "    </tr>\n",
       "    <tr>\n",
       "      <th>9</th>\n",
       "      <td>20.93</td>\n",
       "      <td>40.70</td>\n",
       "      <td>22.97</td>\n",
       "      <td>15.41</td>\n",
       "    </tr>\n",
       "    <tr>\n",
       "      <th>10</th>\n",
       "      <td>25.13</td>\n",
       "      <td>33.83</td>\n",
       "      <td>22.23</td>\n",
       "      <td>18.80</td>\n",
       "    </tr>\n",
       "  </tbody>\n",
       "</table>\n",
       "</div>"
      ],
      "text/plain": [
       "              r4     r3     r2     r1\n",
       "source_id                            \n",
       "1          28.73  25.85  20.80  24.61\n",
       "2          38.05  23.34  20.21  18.40\n",
       "3          23.52  24.36  25.74  26.37\n",
       "4          22.58  26.00  26.62  24.80\n",
       "5          25.88  23.36  23.33  27.43\n",
       "9          20.93  40.70  22.97  15.41\n",
       "10         25.13  33.83  22.23  18.80"
      ]
     },
     "execution_count": 127,
     "metadata": {},
     "output_type": "execute_result"
    }
   ],
   "source": [
    "(recency_results.apply(lambda r: r/r.sum(), axis=1) * 100).round(2)"
   ]
  },
  {
   "cell_type": "code",
   "execution_count": 128,
   "metadata": {},
   "outputs": [
    {
     "data": {
      "image/png": "[encoded data removed]",
      "text/plain": [
       "<matplotlib.figure.Figure at 0x1a116aca20>"
      ]
     },
     "metadata": {},
     "output_type": "display_data"
    }
   ],
   "source": [
    "ax = (recency_results.apply(lambda r: r/r.sum(), axis=1) * 100).round(2).plot(kind='bar', stacked=True);\n",
    "\n",
    "horiz_offset = 1.03\n",
    "vert_offset = 1.\n",
    "ax.legend(bbox_to_anchor=(horiz_offset, vert_offset));"
   ]
  },
  {
   "cell_type": "markdown",
   "metadata": {},
   "source": [
    "# ИТОГИ:"
   ]
  },
  {
   "cell_type": "markdown",
   "metadata": {
    "collapsed": true
   },
   "source": [
    "Принимая во внимание метрики выше (а также показатели retention rate), возможно, для привлечения пользователей (посещение/оплата) стоит использовать, прежде всего, следующие источники (в порядке убывания значимости) **2, 1, 4, 5**\n",
    "\n",
    "Причины:\n",
    "- Ср. чек\n",
    "- Конверсия в первый платеж при первом же визите\n",
    "- Пользовательская конверсия\n",
    "- RFM результаты"
   ]
  },
  {
   "cell_type": "code",
   "execution_count": null,
   "metadata": {
    "collapsed": true
   },
   "outputs": [],
   "source": []
  }
 ],
 "metadata": {
  "kernelspec": {
   "display_name": "Python 3",
   "language": "python",
   "name": "python3"
  },
  "language_info": {
   "codemirror_mode": {
    "name": "ipython",
    "version": 3
   },
   "file_extension": ".py",
   "mimetype": "text/x-python",
   "name": "python",
   "nbconvert_exporter": "python",
   "pygments_lexer": "ipython3",
   "version": "3.6.3"
  }
 },
 "nbformat": 4,
 "nbformat_minor": 2
}
